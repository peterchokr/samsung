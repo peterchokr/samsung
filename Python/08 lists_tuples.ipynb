{
 "cells": [
  {
   "cell_type": "markdown",
   "id": "d18b8b17",
   "metadata": {},
   "source": [
    "# 파이썬 리스트(List)와 튜플(Tuple)\n",
    "\n",
    "**수업 시간**: 3시간  \n",
    "**구성**: 강의 및 실습 2시간 + 퀴즈 1시간  \n",
    "**수준**: 초급-중급  \n",
    "**선수 학습**: 변수, 데이터 타입, 연산자, 입출력, 조건문,   \n",
    "\n",
    "---\n",
    "\n",
    "## 🎯 학습 목표\n",
    "\n",
    "이 수업을 마친 후 학생들은 다음을 할 수 있습니다:\n",
    "\n",
    "- 리스트(List)가 무엇인지, 왜 유용한지 이해하기\n",
    "- 리스트 생성 및 인덱싱(Indexing)으로 요소에 접근하기\n",
    "- 슬라이싱(Slicing)을 사용하여 리스트의 일부분으로 작업하기\n",
    "- 리스트와 반복문을 조합하여 고급 데이터 처리하기\n",
    "- 기본 리스트 컴프리헨션(List Comprehension) 생성 및 사용하기\n",
    "- 튜플(Tuple)의 특성과 사용 시기 이해하기\n",
    "- 리스트와 튜플을 적절히 비교하고 선택하기\n",
    "- 고급 리스트 및 튜플 기능을 사용한 실용적 프로그램 구축하기\n",
    "\n",
    "---\n",
    "\n",
    "## 📋 1. 리스트(List)란 무엇인가?\n",
    "\n",
    "**리스트(List)**는 하나의 변수에 여러 항목을 저장할 수 있는 컬렉션(Collection)입니다. 리스트를 순서대로 여러 다른 것들을 담을 수 있는 컨테이너라고 생각해보세요.\n",
    "\n",
    "### 실생활 비유\n",
    "\n",
    "리스트는 쇼핑 목록이나 학급 명단과 같습니다:\n",
    "\n",
    "```\n",
    "쇼핑 목록:\n",
    "1. 사과\n",
    "2. 빵  \n",
    "3. 우유\n",
    "4. 달걀\n",
    "\n",
    "파이썬 리스트:\n",
    "shopping_list = [\"사과\", \"빵\", \"우유\", \"달걀\"]\n",
    "```\n",
    "\n",
    "### 왜 리스트를 사용하나요?\n",
    "\n",
    "#### 리스트 없이"
   ]
  },
  {
   "cell_type": "code",
   "execution_count": 11,
   "id": "322ce3ea",
   "metadata": {},
   "outputs": [
    {
     "name": "stdout",
     "output_type": "stream",
     "text": [
      "앨리스\n",
      "밥\n",
      "찰리\n",
      "다이아나\n"
     ]
    }
   ],
   "source": [
    "# 학생 이름 저장 - 복잡한 방법\n",
    "student1 = \"앨리스\"\n",
    "student2 = \"밥\"\n",
    "student3 = \"찰리\"\n",
    "student4 = \"다이아나\"\n",
    "\n",
    "# 관리하기 어렵고, 반복하기 힘듦\n",
    "print(student1)\n",
    "print(student2)\n",
    "print(student3)\n",
    "print(student4)"
   ]
  },
  {
   "cell_type": "markdown",
   "id": "23d0e35d",
   "metadata": {},
   "source": [
    "#### 리스트 사용"
   ]
  },
  {
   "cell_type": "code",
   "execution_count": 12,
   "id": "46767431",
   "metadata": {},
   "outputs": [
    {
     "name": "stdout",
     "output_type": "stream",
     "text": [
      "앨리스\n",
      "밥\n",
      "찰리\n",
      "다이아나\n"
     ]
    }
   ],
   "source": [
    "# 학생 이름 저장 - 깔끔한 방법\n",
    "students = [\"앨리스\", \"밥\", \"찰리\", \"다이아나\"]\n",
    "\n",
    "# 관리하기 쉽고 반복하기 편함\n",
    "for student in students:\n",
    "    print(student)"
   ]
  },
  {
   "cell_type": "markdown",
   "id": "e74e530a",
   "metadata": {},
   "source": [
    "### 리스트 특징\n",
    "\n",
    "- **순서가 있음**: 항목들이 특정 위치를 가짐\n",
    "- **변경 가능**: 항목을 추가, 제거, 수정할 수 있음\n",
    "- **중복 허용**: 같은 항목이 여러 번 나타날 수 있음\n",
    "- **혼합 타입**: 다양한 데이터 타입을 함께 저장 가능\n",
    "\n",
    "---\n",
    "\n",
    "## 🔢 2. 리스트 생성과 인덱싱(Indexing)\n",
    "\n",
    "### 리스트 생성\n",
    "\n",
    "#### 방법 1: 대괄호 [] 사용"
   ]
  },
  {
   "cell_type": "code",
   "execution_count": 13,
   "id": "d87f3ac6",
   "metadata": {},
   "outputs": [],
   "source": [
    "# 빈 리스트\n",
    "empty_list = []\n",
    "\n",
    "# 숫자가 들어간 리스트\n",
    "numbers = [1, 2, 3, 4, 5]\n",
    "\n",
    "# 문자열이 들어간 리스트\n",
    "fruits = [\"사과\", \"바나나\", \"오렌지\"]\n",
    "\n",
    "# 혼합 타입 리스트\n",
    "mixed_list = [\"앨리스\", 25, True, 3.14]\n",
    "\n",
    "# 중복이 있는 리스트\n",
    "grades = [85, 90, 85, 92, 85]"
   ]
  },
  {
   "cell_type": "markdown",
   "id": "4f1a913f",
   "metadata": {},
   "source": [
    "#### 방법 2: list() 함수 사용"
   ]
  },
  {
   "cell_type": "code",
   "execution_count": 14,
   "id": "c131512e",
   "metadata": {},
   "outputs": [],
   "source": [
    "# 문자열을 문자 리스트로 변환\n",
    "letters = list(\"안녕하세요\")  # ['안', '녕', '하', '세', '요']\n",
    "\n",
    "# 범위를 리스트로 변환\n",
    "numbers = list(range(1, 6))  # [1, 2, 3, 4, 5]"
   ]
  },
  {
   "cell_type": "markdown",
   "id": "8178c266",
   "metadata": {},
   "source": [
    "### 리스트 인덱싱(Indexing)\n",
    "\n",
    "리스트는 **0부터 시작하는 인덱싱(Zero-based Indexing)**을 사용하므로, 첫 번째 항목이 위치 0에 있습니다."
   ]
  },
  {
   "cell_type": "code",
   "execution_count": 15,
   "id": "cad3f2ed",
   "metadata": {},
   "outputs": [],
   "source": [
    "fruits = [\"사과\", \"바나나\", \"오렌지\", \"포도\", \"키위\"]\n",
    "#         0      1        2        3      4\n",
    "#        -5     -4       -3       -2     -1"
   ]
  },
  {
   "cell_type": "markdown",
   "id": "edcdb83c",
   "metadata": {},
   "source": [
    "#### 양수 인덱싱"
   ]
  },
  {
   "cell_type": "code",
   "execution_count": 16,
   "id": "36ffd0ff",
   "metadata": {},
   "outputs": [
    {
     "name": "stdout",
     "output_type": "stream",
     "text": [
      "사과\n",
      "바나나\n",
      "오렌지\n",
      "키위\n"
     ]
    }
   ],
   "source": [
    "fruits = [\"사과\", \"바나나\", \"오렌지\", \"포도\", \"키위\"]\n",
    "\n",
    "print(fruits[0])    # \"사과\" - 첫 번째 항목\n",
    "print(fruits[1])    # \"바나나\" - 두 번째 항목  \n",
    "print(fruits[2])    # \"오렌지\" - 세 번째 항목\n",
    "print(fruits[4])    # \"키위\" - 마지막 항목"
   ]
  },
  {
   "cell_type": "markdown",
   "id": "0f33914e",
   "metadata": {},
   "source": [
    "#### 음수 인덱싱"
   ]
  },
  {
   "cell_type": "code",
   "execution_count": 17,
   "id": "914c34e2",
   "metadata": {},
   "outputs": [
    {
     "name": "stdout",
     "output_type": "stream",
     "text": [
      "키위\n",
      "포도\n",
      "오렌지\n",
      "사과\n"
     ]
    }
   ],
   "source": [
    "fruits = [\"사과\", \"바나나\", \"오렌지\", \"포도\", \"키위\"]\n",
    "\n",
    "print(fruits[-1])   # \"키위\" - 마지막 항목\n",
    "print(fruits[-2])   # \"포도\" - 뒤에서 두 번째\n",
    "print(fruits[-3])   # \"오렌지\" - 뒤에서 세 번째\n",
    "print(fruits[-5])   # \"사과\" - 첫 번째 항목 (fruits[0]과 같음)"
   ]
  },
  {
   "cell_type": "markdown",
   "id": "a9948059",
   "metadata": {},
   "source": [
    "### 실용적인 예시\n",
    "\n",
    "#### 예시 1: 학생 성적"
   ]
  },
  {
   "cell_type": "code",
   "execution_count": 18,
   "id": "61a54baf",
   "metadata": {},
   "outputs": [
    {
     "name": "stdout",
     "output_type": "stream",
     "text": [
      "첫 번째 학생 성적: 85\n",
      "마지막 학생 성적: 87\n",
      "기록된 성적 수: 5\n",
      "반 평균: 87.6\n"
     ]
    }
   ],
   "source": [
    "# 학생 성적 저장 및 접근\n",
    "grades = [85, 92, 78, 96, 87]\n",
    "\n",
    "print(f\"첫 번째 학생 성적: {grades[0]}\")\n",
    "print(f\"마지막 학생 성적: {grades[-1]}\")\n",
    "print(f\"기록된 성적 수: {len(grades)}\")\n",
    "\n",
    "# 평균 계산\n",
    "total = sum(grades)\n",
    "average = total / len(grades)\n",
    "print(f\"반 평균: {average:.1f}\")"
   ]
  },
  {
   "cell_type": "markdown",
   "id": "5870f52a",
   "metadata": {},
   "source": [
    "#### 예시 2: 요일 이름"
   ]
  },
  {
   "cell_type": "code",
   "execution_count": 19,
   "id": "4631cbb4",
   "metadata": {},
   "outputs": [
    {
     "name": "stdout",
     "output_type": "stream",
     "text": [
      "오늘은 수요일\n",
      "내일은 목요일\n",
      "주말: ['토요일', '일요일']\n"
     ]
    }
   ],
   "source": [
    "# 요일\n",
    "days = [\"월요일\", \"화요일\", \"수요일\", \"목요일\", \n",
    "        \"금요일\", \"토요일\", \"일요일\"]\n",
    "\n",
    "# 특정 요일 접근\n",
    "today = days[2]  # 수요일\n",
    "tomorrow = days[3]  # 목요일\n",
    "\n",
    "print(f\"오늘은 {today}\")\n",
    "print(f\"내일은 {tomorrow}\")\n",
    "\n",
    "# 주말\n",
    "weekend = [days[5], days[6]]  # 토요일, 일요일\n",
    "print(f\"주말: {weekend}\")"
   ]
  },
  {
   "cell_type": "markdown",
   "id": "8fe357a0",
   "metadata": {},
   "source": [
    "---\n",
    "\n",
    "## ✂️ 3. 리스트 슬라이싱(Slicing)\n",
    "\n",
    "**슬라이싱(Slicing)**은 인덱스 범위를 지정하여 리스트의 일부분을 추출할 수 있게 해줍니다.\n",
    "\n",
    "### 슬라이싱 문법"
   ]
  },
  {
   "cell_type": "code",
   "execution_count": 20,
   "id": "25ed957f",
   "metadata": {},
   "outputs": [
    {
     "ename": "NameError",
     "evalue": "name 'list_name' is not defined",
     "output_type": "error",
     "traceback": [
      "\u001b[1;31m---------------------------------------------------------------------------\u001b[0m",
      "\u001b[1;31mNameError\u001b[0m                                 Traceback (most recent call last)",
      "Cell \u001b[1;32mIn[20], line 1\u001b[0m\n\u001b[1;32m----> 1\u001b[0m \u001b[43mlist_name\u001b[49m[시작:끝:단계]\n",
      "\u001b[1;31mNameError\u001b[0m: name 'list_name' is not defined"
     ]
    }
   ],
   "source": [
    "list_name[시작:끝:단계]"
   ]
  },
  {
   "cell_type": "markdown",
   "id": "65f9fa56",
   "metadata": {},
   "source": [
    "- **시작**: 시작 인덱스 (포함됨)\n",
    "- **끝**: 끝 인덱스 (제외됨)\n",
    "- **단계**: 단계 크기 (선택사항, 기본값 1)\n",
    "\n",
    "### 기본 슬라이싱 예시"
   ]
  },
  {
   "cell_type": "code",
   "execution_count": null,
   "id": "be0369ba",
   "metadata": {},
   "outputs": [],
   "source": [
    "numbers = [0, 1, 2, 3, 4, 5, 6, 7, 8, 9]\n",
    "#          0  1  2  3  4  5  6  7  8  9"
   ]
  },
  {
   "cell_type": "markdown",
   "id": "8a5e178b",
   "metadata": {},
   "source": [
    "#### 기본 범위"
   ]
  },
  {
   "cell_type": "code",
   "execution_count": null,
   "id": "565533b5",
   "metadata": {},
   "outputs": [],
   "source": [
    "numbers = [0, 1, 2, 3, 4, 5, 6, 7, 8, 9]\n",
    "\n",
    "print(numbers[2:5])    # [2, 3, 4] - 인덱스 2부터 4까지\n",
    "print(numbers[1:7])    # [1, 2, 3, 4, 5, 6] - 인덱스 1부터 6까지\n",
    "print(numbers[0:3])    # [0, 1, 2] - 첫 세 개 항목"
   ]
  },
  {
   "cell_type": "markdown",
   "id": "75f21f6e",
   "metadata": {},
   "source": [
    "#### 시작 또는 끝 생략"
   ]
  },
  {
   "cell_type": "code",
   "execution_count": null,
   "id": "1c1b9415",
   "metadata": {},
   "outputs": [],
   "source": [
    "numbers = [0, 1, 2, 3, 4, 5, 6, 7, 8, 9]\n",
    "\n",
    "print(numbers[:4])     # [0, 1, 2, 3] - 처음부터 인덱스 3까지\n",
    "print(numbers[6:])     # [6, 7, 8, 9] - 인덱스 6부터 끝까지\n",
    "print(numbers[:])      # [0, 1, 2, 3, 4, 5, 6, 7, 8, 9] - 전체 리스트"
   ]
  },
  {
   "cell_type": "markdown",
   "id": "6146ef30",
   "metadata": {},
   "source": [
    "#### 단계 사용"
   ]
  },
  {
   "cell_type": "code",
   "execution_count": null,
   "id": "9568bd34",
   "metadata": {},
   "outputs": [],
   "source": [
    "numbers = [0, 1, 2, 3, 4, 5, 6, 7, 8, 9]\n",
    "\n",
    "print(numbers[::2])    # [0, 2, 4, 6, 8] - 두 번째마다\n",
    "print(numbers[1::2])   # [1, 3, 5, 7, 9] - 인덱스 1부터 두 번째마다\n",
    "print(numbers[::3])    # [0, 3, 6, 9] - 세 번째마다"
   ]
  },
  {
   "cell_type": "markdown",
   "id": "080b0a5c",
   "metadata": {},
   "source": [
    "#### 슬라이싱에서 음수 인덱스"
   ]
  },
  {
   "cell_type": "code",
   "execution_count": null,
   "id": "d4d9aa48",
   "metadata": {},
   "outputs": [],
   "source": [
    "numbers = [0, 1, 2, 3, 4, 5, 6, 7, 8, 9]\n",
    "\n",
    "print(numbers[-3:])    # [7, 8, 9] - 마지막 세 개 항목\n",
    "print(numbers[:-2])    # [0, 1, 2, 3, 4, 5, 6, 7] - 마지막 두 개 제외\n",
    "print(numbers[-5:-2])  # [5, 6, 7] - 뒤에서 5번째부터 3번째까지"
   ]
  },
  {
   "cell_type": "markdown",
   "id": "18fb3149",
   "metadata": {},
   "source": [
    "---\n",
    "\n",
    "## 🛠️ 4. 필수 리스트 메소드(Method)\n",
    "\n",
    "리스트는 요소를 추가, 제거, 수정하기 쉽게 해주는 내장 메소드들을 가지고 있습니다.\n",
    "\n",
    "### 요소 추가\n",
    "\n",
    "#### append() - 끝에 추가"
   ]
  },
  {
   "cell_type": "code",
   "execution_count": null,
   "id": "fd1fcb9b",
   "metadata": {},
   "outputs": [],
   "source": [
    "fruits = [\"사과\", \"바나나\"]\n",
    "fruits.append(\"오렌지\")\n",
    "print(fruits)  # [\"사과\", \"바나나\", \"오렌지\"]\n",
    "\n",
    "fruits.append(\"포도\")\n",
    "print(fruits)  # [\"사과\", \"바나나\", \"오렌지\", \"포도\"]"
   ]
  },
  {
   "cell_type": "markdown",
   "id": "3e449922",
   "metadata": {},
   "source": [
    "#### insert() - 특정 위치에 추가"
   ]
  },
  {
   "cell_type": "code",
   "execution_count": null,
   "id": "cb29bfe5",
   "metadata": {},
   "outputs": [],
   "source": [
    "fruits = [\"사과\", \"바나나\", \"오렌지\"]\n",
    "fruits.insert(1, \"망고\")  # 인덱스 1에 삽입\n",
    "print(fruits)  # [\"사과\", \"망고\", \"바나나\", \"오렌지\"]\n",
    "\n",
    "fruits.insert(0, \"키위\")   # 맨 앞에 삽입\n",
    "print(fruits)  # [\"키위\", \"사과\", \"망고\", \"바나나\", \"오렌지\"]"
   ]
  },
  {
   "cell_type": "markdown",
   "id": "5b833ddc",
   "metadata": {},
   "source": [
    "### 요소 제거\n",
    "\n",
    "#### remove() - 값으로 제거"
   ]
  },
  {
   "cell_type": "code",
   "execution_count": null,
   "id": "c673b947",
   "metadata": {},
   "outputs": [],
   "source": [
    "fruits = [\"사과\", \"바나나\", \"오렌지\", \"사과\"]\n",
    "fruits.remove(\"바나나\")\n",
    "print(fruits)  # [\"사과\", \"오렌지\", \"사과\"]\n",
    "\n",
    "# 첫 번째로 나타나는 것만 제거\n",
    "fruits.remove(\"사과\")  # 첫 번째 \"사과\" 제거\n",
    "print(fruits)  # [\"오렌지\", \"사과\"]"
   ]
  },
  {
   "cell_type": "markdown",
   "id": "985564f6",
   "metadata": {},
   "source": [
    "#### pop() - 인덱스로 제거"
   ]
  },
  {
   "cell_type": "code",
   "execution_count": null,
   "id": "b8ef205a",
   "metadata": {},
   "outputs": [],
   "source": [
    "fruits = [\"사과\", \"바나나\", \"오렌지\"]\n",
    "\n",
    "# 마지막 항목 제거 (기본값)\n",
    "last_fruit = fruits.pop()\n",
    "print(f\"제거된 과일: {last_fruit}\")  # \"오렌지\"\n",
    "print(fruits)  # [\"사과\", \"바나나\"]\n",
    "\n",
    "# 특정 인덱스 제거\n",
    "first_fruit = fruits.pop(0)\n",
    "print(f\"제거된 과일: {first_fruit}\")  # \"사과\"\n",
    "print(fruits)  # [\"바나나\"]"
   ]
  },
  {
   "cell_type": "markdown",
   "id": "77a892dd",
   "metadata": {},
   "source": [
    "### 실용적인 메소드 예시\n",
    "\n",
    "#### 예시 1: 쇼핑 카트"
   ]
  },
  {
   "cell_type": "code",
   "execution_count": null,
   "id": "cac19797",
   "metadata": {},
   "outputs": [],
   "source": [
    "# 쇼핑 카트 관리\n",
    "cart = []\n",
    "\n",
    "# 항목 추가\n",
    "cart.append(\"빵\")\n",
    "cart.append(\"우유\")\n",
    "cart.append(\"달걀\")\n",
    "print(f\"카트: {cart}\")\n",
    "\n",
    "# 특정 위치에 항목 추가\n",
    "cart.insert(1, \"버터\")  # 빵 다음에 버터 추가\n",
    "print(f\"업데이트된 카트: {cart}\")\n",
    "\n",
    "# 항목 제거\n",
    "cart.remove(\"달걀\")\n",
    "print(f\"달걀 제거 후: {cart}\")\n",
    "\n",
    "# 마지막 항목 제거\n",
    "last_item = cart.pop()\n",
    "print(f\"마지막 제거된 항목: {last_item}\")\n",
    "print(f\"최종 카트: {cart}\")"
   ]
  },
  {
   "cell_type": "markdown",
   "id": "57e2caf6",
   "metadata": {},
   "source": [
    "### 추가 유용한 메소드\n",
    "\n",
    "#### 요소 찾기"
   ]
  },
  {
   "cell_type": "code",
   "execution_count": null,
   "id": "1656cee7",
   "metadata": {},
   "outputs": [],
   "source": [
    "numbers = [10, 20, 30, 20, 40]\n",
    "\n",
    "# 항목 존재 확인\n",
    "if 20 in numbers:\n",
    "    print(\"20이 리스트에 있습니다\")\n",
    "\n",
    "# 항목 인덱스 찾기\n",
    "index = numbers.index(20)  # 첫 번째로 나타나는 위치 반환\n",
    "print(f\"첫 번째 20의 인덱스: {index}\")\n",
    "\n",
    "# 항목 개수 세기\n",
    "count = numbers.count(20)\n",
    "print(f\"20이 {count}번 나타납니다\")"
   ]
  },
  {
   "cell_type": "markdown",
   "id": "682fcef9",
   "metadata": {},
   "source": [
    "#### 리스트 정보"
   ]
  },
  {
   "cell_type": "code",
   "execution_count": null,
   "id": "b07920ce",
   "metadata": {},
   "outputs": [],
   "source": [
    "numbers = [10, 20, 30, 40, 50]\n",
    "\n",
    "print(f\"리스트 길이: {len(numbers)}\")\n",
    "print(f\"최댓값: {max(numbers)}\")\n",
    "print(f\"최솟값: {min(numbers)}\")\n",
    "print(f\"모든 값의 합: {sum(numbers)}\")"
   ]
  },
  {
   "cell_type": "markdown",
   "id": "7d24053f",
   "metadata": {},
   "source": [
    "---\n",
    "\n",
    "## 🔄 5. 리스트와 반복문 조합\n",
    "\n",
    "리스트와 반복문은 다음 이유로 완벽하게 함께 작동합니다:\n",
    "\n",
    "- **여러 항목을 효율적으로 처리**\n",
    "- **각 요소에 동일한 연산 수행**\n",
    "- **데이터 필터링 및 변환**\n",
    "\n",
    "### 기본 패턴\n",
    "\n",
    "#### 패턴 1: 각 요소 처리"
   ]
  },
  {
   "cell_type": "code",
   "execution_count": null,
   "id": "f352f89d",
   "metadata": {},
   "outputs": [],
   "source": [
    "# 예시: 섭씨를 화씨로 변환\n",
    "celsius_temps = [0, 20, 30, 37, 100]\n",
    "fahrenheit_temps = []\n",
    "\n",
    "for temp in celsius_temps:\n",
    "    fahrenheit = (temp * 9/5) + 32\n",
    "    fahrenheit_temps.append(fahrenheit)\n",
    "  \n",
    "print(fahrenheit_temps)  # [32.0, 68.0, 86.0, 98.6, 212.0]"
   ]
  },
  {
   "cell_type": "markdown",
   "id": "ed576f16",
   "metadata": {},
   "source": [
    "#### 패턴 2: 데이터 필터링"
   ]
  },
  {
   "cell_type": "code",
   "execution_count": null,
   "id": "1429a3ba",
   "metadata": {},
   "outputs": [],
   "source": [
    "# 예시: 모든 짝수 찾기\n",
    "numbers = [1, 2, 3, 4, 5, 6, 7, 8, 9, 10]\n",
    "even_numbers = []\n",
    "\n",
    "for num in numbers:\n",
    "    if num % 2 == 0:\n",
    "        even_numbers.append(num)\n",
    "      \n",
    "print(even_numbers)  # [2, 4, 6, 8, 10]"
   ]
  },
  {
   "cell_type": "markdown",
   "id": "cdedde4f",
   "metadata": {},
   "source": [
    "#### 패턴 3: 최댓값/최솟값 찾기"
   ]
  },
  {
   "cell_type": "code",
   "execution_count": null,
   "id": "0022595f",
   "metadata": {},
   "outputs": [],
   "source": [
    "# 예시: 최고 점수 찾기\n",
    "scores = [85, 92, 78, 96, 88, 91]\n",
    "highest_score = scores[0]  # 첫 번째 요소로 시작\n",
    "\n",
    "for score in scores:\n",
    "    if score > highest_score:\n",
    "        highest_score = score\n",
    "      \n",
    "print(f\"최고 점수: {highest_score}\")  # 최고 점수: 96"
   ]
  },
  {
   "cell_type": "markdown",
   "id": "92a38c67",
   "metadata": {},
   "source": [
    "### 고급 반복문 기법\n",
    "\n",
    "#### enumerate() 사용\n",
    "\n",
    "인덱스와 값이 모두 필요할 때:"
   ]
  },
  {
   "cell_type": "code",
   "execution_count": null,
   "id": "a352d247",
   "metadata": {},
   "outputs": [],
   "source": [
    "# 예시: 학생 순위 보여주기\n",
    "students = [\"앨리스\", \"밥\", \"찰리\", \"다이아나\"]\n",
    "\n",
    "for index, name in enumerate(students):\n",
    "    ranking = index + 1\n",
    "    print(f\"{ranking}등: {name}\")\n",
    "\n",
    "# 출력:\n",
    "# 1등: 앨리스\n",
    "# 2등: 밥\n",
    "# 3등: 찰리\n",
    "# 4등: 다이아나"
   ]
  },
  {
   "cell_type": "markdown",
   "id": "c4dfe887",
   "metadata": {},
   "source": [
    "#### zip() 사용\n",
    "\n",
    "여러 리스트를 함께 처리해야 할 때:"
   ]
  },
  {
   "cell_type": "code",
   "execution_count": null,
   "id": "06f4a518",
   "metadata": {},
   "outputs": [],
   "source": [
    "# 예시: 학생 이름과 점수 결합\n",
    "names = [\"앨리스\", \"밥\", \"찰리\"]\n",
    "scores = [95, 87, 92]\n",
    "\n",
    "for name, score in zip(names, scores):\n",
    "    print(f\"{name}: {score}점\")\n",
    "\n",
    "# 출력:\n",
    "# 앨리스: 95점\n",
    "# 밥: 87점\n",
    "# 찰리: 92점"
   ]
  },
  {
   "cell_type": "markdown",
   "id": "19a4698c",
   "metadata": {},
   "source": [
    "---\n",
    "\n",
    "## ✨ 6. 리스트 컴프리헨션(List Comprehension)\n",
    "\n",
    "### 리스트 컴프리헨션이란?\n",
    "\n",
    "**리스트 컴프리헨션(List Comprehension)**은 한 줄의 코드로 리스트를 만드는 간결한 방법입니다.\n",
    "\n",
    "\"압축된 for 반복문\"이라고 생각하면 됩니다.\n",
    "\n",
    "### 기본 문법"
   ]
  },
  {
   "cell_type": "code",
   "execution_count": null,
   "id": "ecff0713",
   "metadata": {},
   "outputs": [],
   "source": [
    "# 일반 형식:\n",
    "# new_list = [표현식 for 항목 in 원본_리스트]\n",
    "\n",
    "# 전통적인 방법:\n",
    "squares = []\n",
    "for x in range(5):\n",
    "    squares.append(x ** 2)\n",
    "\n",
    "# 리스트 컴프리헨션 방법:\n",
    "squares = [x ** 2 for x in range(5)]\n",
    "print(squares)  # [0, 1, 4, 9, 16]"
   ]
  },
  {
   "cell_type": "markdown",
   "id": "bcf3931f",
   "metadata": {},
   "source": [
    "### 간단한 것부터 복잡한 것까지 예시\n",
    "\n",
    "#### 예시 1: 기본 변환"
   ]
  },
  {
   "cell_type": "code",
   "execution_count": null,
   "id": "342b0583",
   "metadata": {},
   "outputs": [],
   "source": [
    "# 각 숫자에 2를 곱하기\n",
    "numbers = [1, 2, 3, 4, 5]\n",
    "doubled = [num * 2 for num in numbers]\n",
    "print(doubled)  # [2, 4, 6, 8, 10]"
   ]
  },
  {
   "cell_type": "markdown",
   "id": "1f1a7a8a",
   "metadata": {},
   "source": [
    "#### 예시 2: 문자열 처리"
   ]
  },
  {
   "cell_type": "code",
   "execution_count": null,
   "id": "7f5f10b4",
   "metadata": {},
   "outputs": [],
   "source": [
    "# 모든 이름을 대문자로 변환\n",
    "names = [\"앨리스\", \"밥\", \"찰리\"]\n",
    "upper_names = [name.upper() for name in names]\n",
    "print(upper_names)  # ['앨리스', '밥', '찰리']"
   ]
  },
  {
   "cell_type": "markdown",
   "id": "52245d99",
   "metadata": {},
   "source": [
    "#### 예시 3: 조건 포함"
   ]
  },
  {
   "cell_type": "code",
   "execution_count": null,
   "id": "cb29d26f",
   "metadata": {},
   "outputs": [],
   "source": [
    "# 짝수만 가져오기\n",
    "numbers = [1, 2, 3, 4, 5, 6, 7, 8, 9, 10]\n",
    "evens = [num for num in numbers if num % 2 == 0]\n",
    "print(evens)  # [2, 4, 6, 8, 10]"
   ]
  },
  {
   "cell_type": "markdown",
   "id": "8aef5597",
   "metadata": {},
   "source": [
    "#### 예시 4: 복잡한 표현"
   ]
  },
  {
   "cell_type": "code",
   "execution_count": null,
   "id": "6e37424f",
   "metadata": {},
   "outputs": [],
   "source": [
    "# 설명적인 문자열 생성\n",
    "scores = [85, 92, 78, 96, 88]\n",
    "descriptions = [f\"점수: {score} - {'우수' if score >= 90 else '양호'}\" \n",
    "                for score in scores]\n",
    "print(descriptions)\n",
    "# ['점수: 85 - 양호', '점수: 92 - 우수', ...]"
   ]
  },
  {
   "cell_type": "markdown",
   "id": "74169fd4",
   "metadata": {},
   "source": [
    "### 리스트 컴프리헨션을 언제 사용할까요?\n",
    "\n",
    "**리스트 컴프리헨션을 사용하는 경우:**\n",
    "\n",
    "- 로직이 간단하고 한 줄에 맞음\n",
    "- 기존 리스트에서 새 리스트를 만들 때\n",
    "- 연산이 직관적일 때\n",
    "\n",
    "**일반 반복문을 사용하는 경우:**\n",
    "\n",
    "- 로직이 복잡할 때\n",
    "- 여러 줄의 코드가 필요할 때\n",
    "- 가독성이 떨어질 때\n",
    "\n",
    "---\n",
    "\n",
    "## 📦 7. 튜플(Tuple) 소개\n",
    "\n",
    "### 튜플이란?\n",
    "\n",
    "**튜플(Tuple)**은 **순서가 있고** **변경 불가능한**(불변) 항목들의 모음입니다.\n",
    "\n",
    "튜플을 **\"잠긴 상자\"**라고 생각해보세요 - 안에 무엇이 있는지 볼 수 있지만 변경할 수는 없습니다.\n",
    "\n",
    "### 튜플 생성"
   ]
  },
  {
   "cell_type": "code",
   "execution_count": null,
   "id": "79fafa8d",
   "metadata": {},
   "outputs": [],
   "source": [
    "# 방법 1: 괄호 사용\n",
    "coordinates = (10, 20)\n",
    "colors = (\"빨강\", \"초록\", \"파랑\")\n",
    "\n",
    "# 방법 2: 괄호 없이\n",
    "point = 5, 10\n",
    "person = \"앨리스\", 25, \"엔지니어\"\n",
    "\n",
    "# 방법 3: tuple() 함수 사용\n",
    "numbers = tuple([1, 2, 3, 4])\n",
    "\n",
    "# 특별한 경우: 단일 항목 튜플\n",
    "single = (42,)  # 쉼표 주의!"
   ]
  },
  {
   "cell_type": "markdown",
   "id": "ce66e142",
   "metadata": {},
   "source": [
    "### 튜플 특성\n",
    "\n",
    "#### 1. 불변성"
   ]
  },
  {
   "cell_type": "code",
   "execution_count": null,
   "id": "a2eabd89",
   "metadata": {},
   "outputs": [],
   "source": [
    "point = (10, 20)\n",
    "# point[0] = 15  # 이것은 에러를 발생시킵니다!\n",
    "print(\"튜플은 변경할 수 없습니다\")"
   ]
  },
  {
   "cell_type": "markdown",
   "id": "1114e7b1",
   "metadata": {},
   "source": [
    "#### 2. 순서 보장"
   ]
  },
  {
   "cell_type": "code",
   "execution_count": null,
   "id": "4d2cf20c",
   "metadata": {},
   "outputs": [],
   "source": [
    "coordinates = (10, 20)\n",
    "print(coordinates[0])  # 10 (첫 번째 요소)\n",
    "print(coordinates[1])  # 20 (두 번째 요소)"
   ]
  },
  {
   "cell_type": "markdown",
   "id": "fe187a3f",
   "metadata": {},
   "source": [
    "#### 3. 중복 허용"
   ]
  },
  {
   "cell_type": "code",
   "execution_count": null,
   "id": "0eb13bac",
   "metadata": {},
   "outputs": [],
   "source": [
    "numbers = (1, 2, 2, 3, 2)\n",
    "print(numbers.count(2))  # 3 (3번 나타남)"
   ]
  },
  {
   "cell_type": "markdown",
   "id": "c86e51ae",
   "metadata": {},
   "source": [
    "### 일반적인 튜플 연산"
   ]
  },
  {
   "cell_type": "code",
   "execution_count": null,
   "id": "18992dce",
   "metadata": {},
   "outputs": [],
   "source": [
    "# 튜플 생성\n",
    "rgb_color = (255, 128, 0)\n",
    "\n",
    "# 요소 접근\n",
    "red = rgb_color[0]\n",
    "green = rgb_color[1]\n",
    "blue = rgb_color[2]\n",
    "\n",
    "# 길이 구하기\n",
    "print(len(rgb_color))  # 3\n",
    "\n",
    "# 항목 존재 확인\n",
    "print(255 in rgb_color)  # True\n",
    "\n",
    "# 튜플 순회\n",
    "for value in rgb_color:\n",
    "    print(f\"색상 값: {value}\")"
   ]
  },
  {
   "cell_type": "markdown",
   "id": "46b528ed",
   "metadata": {},
   "source": [
    "### 튜플 언패킹(Tuple Unpacking)\n",
    "\n",
    "**튜플 언패킹(Tuple Unpacking)**을 사용하면 튜플 값을 여러 변수에 한 번에 할당할 수 있습니다:"
   ]
  },
  {
   "cell_type": "code",
   "execution_count": null,
   "id": "8a532105",
   "metadata": {},
   "outputs": [],
   "source": [
    "# 예시 1: 좌표\n",
    "point = (10, 20)\n",
    "x, y = point  # 언패킹\n",
    "print(f\"X: {x}, Y: {y}\")  # X: 10, Y: 20\n",
    "\n",
    "# 예시 2: 개인 정보\n",
    "person = (\"앨리스\", 25, \"엔지니어\")\n",
    "name, age, job = person\n",
    "print(f\"이름: {name}, 나이: {age}, 직업: {job}\")\n",
    "\n",
    "# 예시 3: 변수 교환\n",
    "a = 5\n",
    "b = 10\n",
    "a, b = b, a  # 값 교환!\n",
    "print(f\"a: {a}, b: {b}\")  # a: 10, b: 5"
   ]
  },
  {
   "cell_type": "markdown",
   "id": "3692862e",
   "metadata": {},
   "source": [
    "---\n",
    "\n",
    "## ⚖️ 8. 리스트 vs 튜플 비교\n",
    "\n",
    "### 나란히 비교\n",
    "\n",
    "| 특징                | 리스트(List)             | 튜플(Tuple)         |\n",
    "| ------------------- | ------------------------ | ------------------- |\n",
    "| **가변성**    | 변경 가능                | 변경 불가           |\n",
    "| **문법**      | `[1, 2, 3]`            | `(1, 2, 3)`       |\n",
    "| **성능**      | 느림                     | 빠름                |\n",
    "| **사용 사례** | 변하는 데이터            | 고정 데이터         |\n",
    "| **메소드**    | 많음 (append, remove 등) | 적음 (count, index) |\n",
    "\n",
    "### 리스트를 언제 사용할까요?\n",
    "\n",
    "**리스트를 사용하는 경우:**\n",
    "\n",
    "- 항목을 **추가하거나 제거**해야 할 때\n",
    "- 시간이 지나면서 **데이터가 변할** 때\n",
    "- **많은 내장 메소드**가 필요할 때"
   ]
  },
  {
   "cell_type": "code",
   "execution_count": null,
   "id": "fc610315",
   "metadata": {},
   "outputs": [],
   "source": [
    "# 리스트의 좋은 사용 사례:\n",
    "shopping_cart = [\"사과\", \"바나나\"]  # 항목을 추가/제거할 수 있음\n",
    "shopping_cart.append(\"오렌지\")\n",
    "\n",
    "student_grades = [85, 90, 78]       # 성적이 변할 수 있음\n",
    "student_grades.append(92)"
   ]
  },
  {
   "cell_type": "markdown",
   "id": "ed41f4f2",
   "metadata": {},
   "source": [
    "### 튜플을 언제 사용할까요?\n",
    "\n",
    "**튜플을 사용하는 경우:**\n",
    "\n",
    "- 데이터가 **변경되어서는 안 될** 때\n",
    "- **더 나은 성능**이 필요할 때\n",
    "- **관련 데이터를 그룹화**하고 싶을 때"
   ]
  },
  {
   "cell_type": "code",
   "execution_count": null,
   "id": "ddf3ee3d",
   "metadata": {},
   "outputs": [],
   "source": [
    "# 튜플의 좋은 사용 사례:\n",
    "rgb_color = (255, 128, 0)          # 색상 값은 변경되지 않음\n",
    "coordinates = (10.5, 20.3)         # 좌표는 고정\n",
    "person_info = (\"앨리스\", 25, \"엔지니어\")  # 기본 정보는 동일"
   ]
  },
  {
   "cell_type": "markdown",
   "id": "70112859",
   "metadata": {},
   "source": [
    "### 실생활 비유\n",
    "\n",
    "**리스트**를 **쇼핑 카트**처럼 생각해보세요 - 항목을 추가하고, 제거하고, 수량을 변경할 수 있습니다.\n",
    "\n",
    "**튜플**을 **출생증명서**처럼 생각해보세요 - 정보가 고정되어 있고 절대 변경되어서는 안 됩니다.\n",
    "\n",
    "---\n",
    "\n",
    "## 🔧 실습 문제\n",
    "\n",
    "### 실습 1: 학생 성적 관리 시스템\n",
    "\n",
    "**문제**: 학생 성적을 저장, 추가, 분석할 수 있는 기본적인 학생 성적 관리 시스템을 만드세요.\n",
    "\n",
    "**요구사항**:\n",
    "\n",
    "- 빈 성적 목록으로 시작\n",
    "- 리스트에 5개의 성적 추가\n",
    "- 평균, 최고, 최저 성적 계산 및 표시\n",
    "- 모든 성적을 위치와 함께 표시\n",
    "- 90점 이상인 성적의 개수 출력\n",
    "\n",
    "**정답**:"
   ]
  },
  {
   "cell_type": "code",
   "execution_count": null,
   "id": "473ec5d2",
   "metadata": {},
   "outputs": [],
   "source": [
    "# 학생 성적 관리 시스템\n",
    "print(\"=== 학생 성적 관리 시스템 ===\")\n",
    "\n",
    "# 빈 성적 리스트 초기화\n",
    "grades = []\n",
    "\n",
    "# 성적 추가\n",
    "grades.append(85)\n",
    "grades.append(92)\n",
    "grades.append(78)\n",
    "grades.append(96)\n",
    "grades.append(88)\n",
    "\n",
    "print(f\"성적: {grades}\")\n",
    "\n",
    "# 모든 성적을 위치와 함께 표시\n",
    "print(\"\\n모든 성적:\")\n",
    "for i in range(len(grades)):\n",
    "    print(f\"학생 {i+1}: {grades[i]}점\")\n",
    "\n",
    "# 통계 계산\n",
    "total = sum(grades)\n",
    "average = total / len(grades)\n",
    "highest = max(grades)\n",
    "lowest = min(grades)\n",
    "\n",
    "# 90점 이상 성적 개수\n",
    "excellent_count = 0\n",
    "for grade in grades:\n",
    "    if grade >= 90:\n",
    "        excellent_count += 1\n",
    "\n",
    "print(f\"\\n=== 통계 ===\")\n",
    "print(f\"총 학생 수: {len(grades)}\")\n",
    "print(f\"평균 성적: {average:.1f}\")\n",
    "print(f\"최고 성적: {highest}\")\n",
    "print(f\"최저 성적: {lowest}\")\n",
    "print(f\"90점 이상 학생 수: {excellent_count}\")"
   ]
  },
  {
   "cell_type": "markdown",
   "id": "da50562c",
   "metadata": {},
   "source": [
    "### 실습 2: 과일 가게 재고 관리\n",
    "\n",
    "**문제**: 과일 가게의 재고를 관리하는 간단한 프로그램을 만드세요.\n",
    "\n",
    "**요구사항**:\n",
    "\n",
    "- 과일 이름 리스트 생성\n",
    "- 새로운 과일 추가\n",
    "- 특정 과일 검색\n",
    "- 과일 개수 확인\n",
    "\n",
    "**정답**:"
   ]
  },
  {
   "cell_type": "code",
   "execution_count": null,
   "id": "bc3c74e5",
   "metadata": {},
   "outputs": [],
   "source": [
    "# 과일 가게 재고 관리\n",
    "print(\"=== 과일 가게 재고 관리 ===\")\n",
    "\n",
    "# 초기 과일 목록\n",
    "fruits = [\"사과\", \"바나나\", \"오렌지\"]\n",
    "\n",
    "print(\"현재 재고:\")\n",
    "for i in range(len(fruits)):\n",
    "    print(f\"{i+1}. {fruits[i]}\")\n",
    "\n",
    "# 새로운 과일 추가\n",
    "fruits.append(\"딸기\")\n",
    "fruits.append(\"포도\")\n",
    "\n",
    "print(f\"\\n과일 추가 후 재고: {fruits}\")\n",
    "\n",
    "# 특정 과일 검색\n",
    "search_fruit = \"바나나\"\n",
    "if search_fruit in fruits:\n",
    "    print(f\"\\n'{search_fruit}'이 재고에 있습니다!\")\n",
    "    position = fruits.index(search_fruit)\n",
    "    print(f\"위치: {position + 1}번째\")\n",
    "else:\n",
    "    print(f\"\\n'{search_fruit}'이 재고에 없습니다.\")\n",
    "\n",
    "# 재고 현황\n",
    "print(f\"\\n총 과일 종류: {len(fruits)}개\")\n",
    "print(\"전체 재고 목록:\")\n",
    "for fruit in fruits:\n",
    "    print(f\"- {fruit}\")"
   ]
  },
  {
   "cell_type": "markdown",
   "id": "70e42a88",
   "metadata": {},
   "source": [
    "### 실습 3: 학생 정보 관리 (튜플 연습)\n",
    "\n",
    "**문제**: 튜플을 사용하여 학생들의 기본 정보를 관리하는 프로그램을 만드세요.\n",
    "\n",
    "**요구사항**:\n",
    "\n",
    "- 학생 정보를 튜플로 저장 (이름, 나이, 학과)\n",
    "- 튜플 언패킹으로 정보 출력\n",
    "- 특정 학과 학생 찾기\n",
    "- 나이 평균 계산\n",
    "\n",
    "**정답**:"
   ]
  },
  {
   "cell_type": "code",
   "execution_count": null,
   "id": "55a65623",
   "metadata": {},
   "outputs": [],
   "source": [
    "# 학생 정보 관리 (튜플 사용)\n",
    "print(\"=== 학생 정보 관리 시스템 ===\")\n",
    "\n",
    "# 학생들 정보를 튜플로 저장\n",
    "students = [\n",
    "    (\"김철수\", 20, \"컴퓨터공학과\"),\n",
    "    (\"이영희\", 19, \"경영학과\"),\n",
    "    (\"박민수\", 21, \"컴퓨터공학과\"),\n",
    "    (\"최지은\", 20, \"디자인학과\")\n",
    "]\n",
    "\n",
    "# 모든 학생 정보 출력 (튜플 언패킹 사용)\n",
    "print(\"전체 학생 목록:\")\n",
    "for i, student_info in enumerate(students, 1):\n",
    "    name, age, major = student_info  # 튜플 언패킹\n",
    "    print(f\"{i}. {name} - {age}세, {major}\")\n",
    "\n",
    "# 특정 학과 학생 찾기\n",
    "target_major = \"컴퓨터공학과\"\n",
    "print(f\"\\n{target_major} 학생들:\")\n",
    "cs_students = []\n",
    "\n",
    "for student in students:\n",
    "    name, age, major = student\n",
    "    if major == target_major:\n",
    "        cs_students.append(name)\n",
    "\n",
    "print(f\"{target_major}: {cs_students}\")\n",
    "\n",
    "# 나이 평균 계산\n",
    "total_age = 0\n",
    "for student in students:\n",
    "    name, age, major = student\n",
    "    total_age += age\n",
    "\n",
    "average_age = total_age / len(students)\n",
    "print(f\"\\n학생들 평균 나이: {average_age:.1f}세\")\n",
    "\n",
    "# 가장 어린 학생과 나이 많은 학생 찾기\n",
    "ages = []\n",
    "for student in students:\n",
    "    name, age, major = student\n",
    "    ages.append(age)\n",
    "\n",
    "youngest_age = min(ages)\n",
    "oldest_age = max(ages)\n",
    "\n",
    "print(f\"가장 어린 학생 나이: {youngest_age}세\")\n",
    "print(f\"가장 나이 많은 학생 나이: {oldest_age}세\")"
   ]
  },
  {
   "cell_type": "markdown",
   "id": "53ef6bf9",
   "metadata": {},
   "source": [
    "---\n",
    "\n",
    "## 📝 퀴즈\n",
    "\n",
    "### 퀴즈 1: 리스트 컴프리헨션 도전\n",
    "\n",
    "**문제**: 1부터 20까지의 모든 짝수의 제곱을 포함하는 새 리스트를 만드는 리스트 컴프리헨션을 작성하세요.\n",
    "\n",
    "**요구사항**:\n",
    "\n",
    "- 단일 리스트 컴프리헨션 사용\n",
    "- 짝수만 포함\n",
    "- 각 짝수의 제곱 계산\n",
    "- 결과는: [4, 16, 36, 64, 100, 144, 196, 256, 324, 400]\n",
    "\n",
    "**답을 여기에 작성하세요**:"
   ]
  },
  {
   "cell_type": "code",
   "execution_count": null,
   "id": "3810c560",
   "metadata": {},
   "outputs": [],
   "source": [
    "# 여기에 리스트 컴프리헨션을 작성하세요\n",
    "even_squares = ____________________________\n",
    "print(even_squares)"
   ]
  },
  {
   "cell_type": "markdown",
   "id": "c5d6d18c",
   "metadata": {},
   "source": [
    "### 퀴즈 2: 튜플 vs 리스트 분석\n",
    "\n",
    "**문제**: 튜플 `(10, 20, 30)`과 리스트 `[10, 20, 30]`의 차이점을 최소 3가지 설명하세요. 각 차이점에 대해 차이를 보여주는 코드 예시를 제공하세요.\n",
    "\n",
    "**답을 채우세요**:\n",
    "\n",
    "**차이점 1**: _________________________________"
   ]
  },
  {
   "cell_type": "code",
   "execution_count": null,
   "id": "667cdfe1",
   "metadata": {},
   "outputs": [],
   "source": [
    "# 차이를 보여주는 코드 예시:\n",
    "tuple_example = (10, 20, 30)\n",
    "list_example = [10, 20, 30]\n",
    "\n",
    "# 여기에 코드를 작성하세요:\n"
   ]
  },
  {
   "cell_type": "markdown",
   "id": "f75fd03c",
   "metadata": {},
   "source": [
    "**차이점 2**: _________________________________"
   ]
  },
  {
   "cell_type": "code",
   "execution_count": null,
   "id": "34f2731a",
   "metadata": {},
   "outputs": [],
   "source": [
    "# 차이를 보여주는 코드 예시:\n",
    "tuple_example = (10, 20, 30)\n",
    "list_example = [10, 20, 30]\n",
    "\n",
    "# 여기에 코드를 작성하세요:\n"
   ]
  },
  {
   "cell_type": "markdown",
   "id": "2d95a536",
   "metadata": {},
   "source": [
    "**차이점 3**: _________________________________"
   ]
  },
  {
   "cell_type": "code",
   "execution_count": null,
   "id": "ae547977",
   "metadata": {},
   "outputs": [],
   "source": [
    "# 차이를 보여주는 코드 예시:\n",
    "tuple_example = (10, 20, 30)\n",
    "list_example = [10, 20, 30]\n",
    "\n",
    "# 여기에 코드를 작성하세요:\n"
   ]
  },
  {
   "cell_type": "markdown",
   "id": "38dc41bf",
   "metadata": {},
   "source": [
    "### 퀴즈 3: 학생 데이터 관리\n",
    "\n",
    "**문제**: 각 튜플이 (이름, 나이, 수학점수, 과학점수)를 포함하는 학생 튜플의 리스트가 있습니다. 다음을 수행하는 프로그램을 작성하세요:\n",
    "\n",
    "1. 평균 점수로 학생 정렬 (높은 점수부터)\n",
    "2. 평균 점수가 85 이상인 학생 리스트 생성\n",
    "3. 수학 점수가 가장 높은 학생 찾기\n",
    "\n",
    "**주어진 데이터**:"
   ]
  },
  {
   "cell_type": "code",
   "execution_count": null,
   "id": "8a74e61c",
   "metadata": {},
   "outputs": [],
   "source": [
    "students = [\n",
    "    (\"앨리스\", 20, 88, 92),\n",
    "    (\"밥\", 19, 95, 87),\n",
    "    (\"찰리\", 21, 78, 85),\n",
    "    (\"다이아나\", 20, 91, 89),\n",
    "    (\"이브\", 19, 82, 94)\n",
    "]"
   ]
  },
  {
   "cell_type": "markdown",
   "id": "83be8e7f",
   "metadata": {},
   "source": [
    "**해답을 여기에 작성하세요**:"
   ]
  },
  {
   "cell_type": "code",
   "execution_count": null,
   "id": "5dcea000",
   "metadata": {},
   "outputs": [],
   "source": [
    "students = [\n",
    "    (\"앨리스\", 20, 88, 92),\n",
    "    (\"밥\", 19, 95, 87),\n",
    "    (\"찰리\", 21, 78, 85),\n",
    "    (\"다이아나\", 20, 91, 89),\n",
    "    (\"이브\", 19, 82, 94)\n",
    "]\n",
    "\n",
    "# 1. 평균 점수로 학생 정렬 (높은 점수부터)\n",
    "# 여기에 코드를 작성하세요:\n",
    "\n",
    "# 2. 평균 점수가 85 이상인 학생 리스트 생성\n",
    "# 여기에 코드를 작성하세요:\n",
    "\n",
    "# 3. 수학 점수가 가장 높은 학생 찾기\n",
    "# 여기에 코드를 작성하세요:\n"
   ]
  },
  {
   "cell_type": "markdown",
   "id": "5cbee087",
   "metadata": {},
   "source": [
    "---\n",
    "\n",
    "## 📖 참고 자료\n",
    "\n",
    "1. **Python 공식 문서 - 리스트**: https://docs.python.org/3/tutorial/datastructures.html#more-on-lists\n",
    "2. **Python 공식 문서 - 리스트 컴프리헨션**: https://docs.python.org/3/tutorial/datastructures.html#list-comprehensions\n",
    "3. **Python 공식 문서 - 튜플**: https://docs.python.org/3/tutorial/datastructures.html#tuples-and-sequences\n",
    "4. **Real Python - 리스트와 튜플**: https://realpython.com/python-lists-tuples/\n",
    "5. **Python 정렬 가이드**: https://docs.python.org/3/howto/sorting.html\n",
    "\n",
    "---\n",
    "\n",
    "## 💡 성공을 위한 추가 팁\n",
    "\n",
    "### 모범 사례\n",
    "\n",
    "- **올바른 데이터 구조 선택**: 변하는 데이터는 리스트, 고정 데이터는 튜플\n",
    "- **리스트 컴프리헨션을 읽기 쉽게 유지**: 너무 복잡하면 일반 반복문 사용\n",
    "- **튜플 언패킹 사용**: 코드가 더 깔끔하고 읽기 쉬워짐\n",
    "\n",
    "### 피해야 할 일반적인 실수\n",
    "\n",
    "- **튜플 수정 시도**: 불변이라는 것을 기억\n",
    "- **리스트 컴프리헨션 남용**: 때로는 일반 반복문이 더 명확\n",
    "- **단일 항목 튜플에서 쉼표 누락**: `(42)`가 아닌 `(42,)`\n",
    "\n",
    "### 성능 팁\n",
    "\n",
    "- **읽기 전용 작업에는 튜플이 리스트보다 빠름**\n",
    "- **간단한 연산에는 리스트 컴프리헨션이 반복문보다 빠름**\n",
    "- **수동 인덱싱 대신 enumerate()와 zip() 사용**\n",
    "\n",
    "---\n",
    "\n",
    "## 📋 숙제\n",
    "\n",
    "1. **연습**: 모든 실습 문제를 완료하고 수정 사항 실험해보기\n",
    "2. **실험**: 다양한 조건으로 자신만의 리스트 컴프리헨션 만들기\n",
    "3. **탐색**: 관련 데이터를 저장하기 위해 리스트와 튜플을 모두 사용하는 프로그램 만들기\n",
    "4. **도전**: 점의 회전이나 크기 조정과 같은 연산을 수행할 수 있는 좌표 시스템 구축\n",
    "\n",
    "**리스트와 튜플 마스터하기 수고하셨습니다!**"
   ]
  }
 ],
 "metadata": {
  "jupytext": {
   "cell_metadata_filter": "-all",
   "main_language": "python",
   "notebook_metadata_filter": "-all"
  },
  "kernelspec": {
   "display_name": "Python 3",
   "language": "python",
   "name": "python3"
  },
  "language_info": {
   "codemirror_mode": {
    "name": "ipython",
    "version": 3
   },
   "file_extension": ".py",
   "mimetype": "text/x-python",
   "name": "python",
   "nbconvert_exporter": "python",
   "pygments_lexer": "ipython3",
   "version": "3.11.4"
  }
 },
 "nbformat": 4,
 "nbformat_minor": 5
}
