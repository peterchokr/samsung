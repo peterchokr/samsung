{
 "cells": [
  {
   "cell_type": "markdown",
   "id": "053b617d",
   "metadata": {},
   "source": [
    "# 파이썬 클래스(Class)와 객체(Object)   \n",
    "\n",
    "**수업 시간**: 3시간  \n",
    "**구성**: 강의 및 실습 2시간 + 퀴즈 1시간  \n",
    "**수준**: 중급  \n",
    "\n",
    "---\n",
    "\n",
    "## 🎯 학습 목표\n",
    "\n",
    "이 수업을 마친 후 학생들은 다음을 할 수 있습니다:\n",
    "\n",
    "- 클래스(Class)와 객체(Object)가 무엇인지 이해하기\n",
    "- 속성(Attribute)과 메소드(Method)가 있는 간단한 클래스 생성하기\n",
    "- __init__ 메소드를 사용하여 객체 초기화하기\n",
    "- 클래스로부터 객체 생성 및 사용하기\n",
    "- 상속(Inheritance)의 기본 개념 이해하고 적용하기\n",
    "\n",
    "---\n",
    "\n",
    "## 📦 1. 클래스와 객체의 개념\n",
    "\n",
    "### 클래스와 객체란?\n",
    "\n",
    "**클래스(Class)**는 **설계도** 또는 **템플릿**과 같습니다. **객체(Object)**는 그 설계도로부터 만들어진 실제 물건입니다.\n",
    "\n",
    "### 간단한 비유\n",
    "\n",
    "**쿠키 틀**(클래스)과 **쿠키**(객체)를 생각해보세요:\n",
    "\n",
    "```\n",
    "쿠키 틀 (클래스) → 같은 모양의 쿠키를 만듦\n",
    "쿠키들 (객체) → 각각은 고유하지만 같은 모양을 가짐\n",
    "```\n",
    "\n",
    "### 왜 클래스를 사용하나요?\n",
    "\n",
    "- **조직화**: 관련 데이터를 함께 유지\n",
    "- **재사용성**: 비슷한 객체를 여러 개 생성\n",
    "- **실세계 모델링**: 실제 사물을 코드로 표현\n",
    "\n",
    "---\n",
    "\n",
    "## 🏗️ 2. 클래스 정의와 객체 생성\n",
    "\n",
    "### 기본 클래스 문법"
   ]
  },
  {
   "cell_type": "code",
   "execution_count": null,
   "id": "6697476f",
   "metadata": {},
   "outputs": [],
   "source": [
    "class ClassName:\n",
    "    pass"
   ]
  },
  {
   "cell_type": "markdown",
   "id": "71217a30",
   "metadata": {},
   "source": [
    "### 간단한 예시"
   ]
  },
  {
   "cell_type": "code",
   "execution_count": null,
   "id": "af754f4f",
   "metadata": {},
   "outputs": [],
   "source": [
    "class Dog:\n",
    "    pass\n",
    "\n",
    "# 객체 생성\n",
    "dog1 = Dog()\n",
    "dog2 = Dog()\n",
    "\n",
    "print(\"두 마리의 개가 생성되었습니다!\")"
   ]
  },
  {
   "cell_type": "markdown",
   "id": "182df9e1",
   "metadata": {},
   "source": [
    "### 속성(Attribute) 추가"
   ]
  },
  {
   "cell_type": "code",
   "execution_count": null,
   "id": "fe953ca1",
   "metadata": {},
   "outputs": [],
   "source": [
    "class Car:\n",
    "    pass\n",
    "\n",
    "# 자동차 생성 및 속성 추가\n",
    "my_car = Car()\n",
    "my_car.brand = \"현대\"\n",
    "my_car.color = \"빨간색\"\n",
    "\n",
    "print(f\"내 차는 {my_car.color} {my_car.brand}입니다\")"
   ]
  },
  {
   "cell_type": "markdown",
   "id": "7ed496d3",
   "metadata": {},
   "source": [
    "---\n",
    "\n",
    "## 🔧 3. 속성과 메소드\n",
    "\n",
    "### 속성과 메소드란?\n",
    "\n",
    "- **속성(Attribute)**: 데이터를 저장하는 변수\n",
    "- **메소드(Method)**: 행동을 수행하는 함수\n",
    "\n",
    "### 메소드 추가"
   ]
  },
  {
   "cell_type": "code",
   "execution_count": null,
   "id": "3e0170c3",
   "metadata": {},
   "outputs": [],
   "source": [
    "class Dog:\n",
    "    def bark(self):\n",
    "        return \"멍멍!\"\n",
    "  \n",
    "    def sit(self):\n",
    "        return \"개가 앉았습니다\"\n",
    "\n",
    "# 개 생성 및 사용\n",
    "my_dog = Dog()\n",
    "print(my_dog.bark())\n",
    "print(my_dog.sit())"
   ]
  },
  {
   "cell_type": "markdown",
   "id": "94772344",
   "metadata": {},
   "source": [
    "### 'self' 이해하기\n",
    "\n",
    "**'self'** 매개변수는 현재 객체를 가리킵니다."
   ]
  },
  {
   "cell_type": "code",
   "execution_count": null,
   "id": "13cc5d52",
   "metadata": {},
   "outputs": [],
   "source": [
    "class Calculator:\n",
    "    def add(self, a, b):\n",
    "        return a + b\n",
    "\n",
    "calc = Calculator()\n",
    "result = calc.add(5, 3)\n",
    "print(f\"5 + 3 = {result}\")"
   ]
  },
  {
   "cell_type": "markdown",
   "id": "f2908ddd",
   "metadata": {},
   "source": [
    "---\n",
    "\n",
    "## 🎬 4. __init__ 메소드\n",
    "\n",
    "### __init__이란?\n",
    "\n",
    "**__init__** 메소드는 새 객체를 생성할 때 자동으로 실행됩니다. 객체의 초기값을 설정합니다.\n",
    "\n",
    "### 기본 __init__ 예시"
   ]
  },
  {
   "cell_type": "code",
   "execution_count": null,
   "id": "f8c7f74d",
   "metadata": {},
   "outputs": [],
   "source": [
    "class Student:\n",
    "    def __init__(self, name, age):\n",
    "        self.name = name\n",
    "        self.age = age\n",
    "  \n",
    "    def introduce(self):\n",
    "        return f\"안녕하세요, 저는 {self.name}이고 {self.age}살입니다\"\n",
    "\n",
    "# 학생 생성\n",
    "student1 = Student(\"김철수\", 18)\n",
    "student2 = Student(\"이영희\", 19)\n",
    "\n",
    "print(student1.introduce())\n",
    "print(student2.introduce())"
   ]
  },
  {
   "cell_type": "markdown",
   "id": "fdf69eb8",
   "metadata": {},
   "source": [
    "### __init__과 메소드"
   ]
  },
  {
   "cell_type": "code",
   "execution_count": null,
   "id": "2eef0876",
   "metadata": {},
   "outputs": [],
   "source": [
    "class BankAccount:\n",
    "    def __init__(self, account_number, balance):\n",
    "        self.account_number = account_number\n",
    "        self.balance = balance\n",
    "  \n",
    "    def deposit(self, amount):\n",
    "        self.balance += amount\n",
    "        return f\"새로운 잔액: {self.balance}원\"\n",
    "  \n",
    "    def get_balance(self):\n",
    "        return f\"현재 잔액: {self.balance}원\"\n",
    "\n",
    "# 계좌 생성 및 사용\n",
    "account = BankAccount(\"12345\", 100000)\n",
    "print(account.get_balance())\n",
    "print(account.deposit(50000))"
   ]
  },
  {
   "cell_type": "markdown",
   "id": "27febe9c",
   "metadata": {},
   "source": [
    "---\n",
    "\n",
    "## 👨‍👩‍👧‍👦 5. 상속(Inheritance) 기초\n",
    "\n",
    "### 상속이란?\n",
    "\n",
    "상속(Inheritance)은 가족과 같습니다. 자녀들은 부모로부터 특성을 받지만, 자신만의 특성도 가질 수 있습니다.\n",
    "\n",
    "### 간단한 상속 예시"
   ]
  },
  {
   "cell_type": "code",
   "execution_count": null,
   "id": "531a0907",
   "metadata": {},
   "outputs": [],
   "source": [
    "# 부모 클래스\n",
    "class Animal:\n",
    "    def __init__(self, name):\n",
    "        self.name = name\n",
    "  \n",
    "    def eat(self):\n",
    "        return f\"{self.name}이(가) 먹고 있습니다\"\n",
    "  \n",
    "    def sleep(self):\n",
    "        return f\"{self.name}이(가) 자고 있습니다\"\n",
    "\n",
    "# 자식 클래스\n",
    "class Dog(Animal):\n",
    "    def bark(self):\n",
    "        return f\"{self.name}이(가) 멍멍! 하고 짖습니다\"\n",
    "\n",
    "# 상속 사용하기\n",
    "my_dog = Dog(\"뽀삐\")\n",
    "print(my_dog.eat())    # 부모 클래스에서 상속받음\n",
    "print(my_dog.sleep())  # 부모 클래스에서 상속받음  \n",
    "print(my_dog.bark())   # 자식 클래스의 메소드"
   ]
  },
  {
   "cell_type": "markdown",
   "id": "1eae84d3",
   "metadata": {},
   "source": [
    "### 왜 상속을 사용하나요?\n",
    "\n",
    "- **시간 절약**: 같은 코드를 다시 작성할 필요 없음\n",
    "- **조직화**: 비슷한 것들을 함께 관리\n",
    "- **유지보수**: 부모를 수정하면 모든 자식이 함께 변경됨\n",
    "\n",
    "### 기본 상속 패턴"
   ]
  },
  {
   "cell_type": "code",
   "execution_count": null,
   "id": "44759c54",
   "metadata": {},
   "outputs": [],
   "source": [
    "class SamsungProduct:\n",
    "    def __init__(self, model_name):\n",
    "        self.model_name = model_name\n",
    "        self.brand = \"삼성\"\n",
    "  \n",
    "    def power_on(self):\n",
    "        return f\"{self.model_name}이(가) 전원이 켜졌습니다\"\n",
    "  \n",
    "    def power_off(self):\n",
    "        return f\"{self.model_name}이(가) 전원이 꺼졌습니다\"\n",
    "\n",
    "class Galaxy(SamsungProduct):\n",
    "    def make_call(self):\n",
    "        return f\"{self.model_name}으로 전화를 겁니다\"\n",
    "\n",
    "class SamsungTV(SamsungProduct):\n",
    "    def change_channel(self):\n",
    "        return f\"{self.model_name}의 채널을 변경합니다\"\n",
    "\n",
    "# 두 제품 모두 테스트\n",
    "phone = Galaxy(\"갤럭시 S24\")\n",
    "tv = SamsungTV(\"삼성 QLED TV\")\n",
    "\n",
    "print(phone.power_on())      # 상속받은 메소드\n",
    "print(phone.make_call())     # Galaxy만의 메소드\n",
    "print(tv.power_on())         # 상속받은 메소드  \n",
    "print(tv.change_channel())   # SamsungTV만의 메소드"
   ]
  },
  {
   "cell_type": "markdown",
   "id": "a35ba408",
   "metadata": {},
   "source": [
    "---\n",
    "\n",
    "## 🔧 실습 문제\n",
    "\n",
    "### 실습 1: 삼성 직원 클래스\n",
    "\n",
    "**문제**: 삼성전자 직원의 기본 정보가 있는 SamsungEmployee 클래스를 만드세요.\n",
    "\n",
    "**정답**:"
   ]
  },
  {
   "cell_type": "code",
   "execution_count": null,
   "id": "1bff4263",
   "metadata": {},
   "outputs": [],
   "source": [
    "class SamsungEmployee:\n",
    "    def __init__(self, name, employee_id, department):\n",
    "        self.name = name\n",
    "        self.employee_id = employee_id\n",
    "        self.department = department\n",
    "  \n",
    "    def introduce(self):\n",
    "        return f\"안녕하세요, 저는 {self.department} 소속 {self.name}입니다\"\n",
    "  \n",
    "    def work(self):\n",
    "        return f\"{self.name}이(가) {self.department}에서 열심히 일하고 있습니다\"\n",
    "  \n",
    "    def get_info(self):\n",
    "        return f\"사번: {self.employee_id}, 이름: {self.name}, 부서: {self.department}\"\n",
    "\n",
    "# 클래스 테스트\n",
    "emp1 = SamsungEmployee(\"김개발\", \"S2024001\", \"반도체사업부\")\n",
    "emp2 = SamsungEmployee(\"이설계\", \"S2024002\", \"모바일사업부\")\n",
    "\n",
    "print(emp1.introduce())\n",
    "print(emp1.work())\n",
    "print(emp1.get_info())\n",
    "print()\n",
    "print(emp2.introduce())"
   ]
  },
  {
   "cell_type": "markdown",
   "id": "2cdd56c8",
   "metadata": {},
   "source": [
    "### 실습 2: 삼성 제품 클래스 (상속)\n",
    "\n",
    "**문제**: SamsungProduct 부모 클래스와 Galaxy 자식 클래스를 만들어 상속을 연습하세요.\n",
    "\n",
    "**정답**:"
   ]
  },
  {
   "cell_type": "code",
   "execution_count": null,
   "id": "d239024a",
   "metadata": {},
   "outputs": [],
   "source": [
    "class SamsungProduct:\n",
    "    def __init__(self, model_name, price):\n",
    "        self.model_name = model_name\n",
    "        self.price = price\n",
    "        self.brand = \"삼성\"\n",
    "  \n",
    "    def power_on(self):\n",
    "        return f\"{self.model_name}의 전원이 켜졌습니다\"\n",
    "  \n",
    "    def get_info(self):\n",
    "        return f\"브랜드: {self.brand}, 모델: {self.model_name}, 가격: {self.price}원\"\n",
    "\n",
    "class Galaxy(SamsungProduct):\n",
    "    def __init__(self, model_name, price, storage):\n",
    "        super().__init__(model_name, price)  # 부모 클래스 초기화\n",
    "        self.storage = storage\n",
    "  \n",
    "    def make_call(self):  # 갤럭시만의 메소드\n",
    "        return f\"{self.model_name}으로 전화를 겁니다\"\n",
    "  \n",
    "    def get_info(self):  # 메소드 재정의\n",
    "        base_info = super().get_info()  # 부모 메소드 호출\n",
    "        return f\"{base_info}, 저장용량: {self.storage}GB\"\n",
    "\n",
    "# 상속 테스트\n",
    "phone = Galaxy(\"갤럭시 S24\", 1200000, 256)\n",
    "print(phone.power_on())   # 부모에서 상속받음\n",
    "print(phone.make_call())  # 자식만의 메소드\n",
    "print(phone.get_info())   # 자식에서 재정의함"
   ]
  },
  {
   "cell_type": "markdown",
   "id": "afe3a964",
   "metadata": {},
   "source": [
    "### 실습 3: 삼성 부서 관리 시스템\n",
    "\n",
    "**문제**: Employee 부모 클래스와 TeamLeader 자식 클래스로 부서 관리 시스템을 만드세요.\n",
    "\n",
    "**정답**:"
   ]
  },
  {
   "cell_type": "code",
   "execution_count": null,
   "id": "0eaba374",
   "metadata": {},
   "outputs": [],
   "source": [
    "class Employee:\n",
    "    def __init__(self, name, salary, department):\n",
    "        self.name = name\n",
    "        self.salary = salary\n",
    "        self.department = department\n",
    "  \n",
    "    def work(self):\n",
    "        return f\"{self.name}이(가) {self.department}에서 업무를 수행하고 있습니다\"\n",
    "  \n",
    "    def get_salary_info(self):\n",
    "        return f\"{self.name}의 연봉: {self.salary}만원\"\n",
    "\n",
    "class TeamLeader(Employee):\n",
    "    def __init__(self, name, salary, department, team_members):\n",
    "        super().__init__(name, salary, department)  # 부모 클래스 초기화\n",
    "        self.team_members = team_members\n",
    "  \n",
    "    def work(self):  # 메소드 재정의\n",
    "        return f\"팀리더 {self.name}이(가) {self.department}에서 {len(self.team_members)}명의 팀을 관리하고 있습니다\"\n",
    "  \n",
    "    def add_team_member(self, member_name):\n",
    "        self.team_members.append(member_name)\n",
    "        return f\"{member_name}을(를) 팀에 추가했습니다\"\n",
    "  \n",
    "    def show_team(self):\n",
    "        return f\"{self.name}의 팀원들: {', '.join(self.team_members)}\"\n",
    "\n",
    "# 부서 관리 시스템 테스트\n",
    "emp = Employee(\"박사원\", 4000, \"반도체사업부\")\n",
    "leader = TeamLeader(\"김팀장\", 7000, \"반도체사업부\", [\"이직원\", \"최사원\"])\n",
    "\n",
    "print(emp.work())\n",
    "print(emp.get_salary_info())\n",
    "print()\n",
    "print(leader.work())\n",
    "print(leader.add_team_member(\"신입사원\"))\n",
    "print(leader.show_team())"
   ]
  },
  {
   "cell_type": "markdown",
   "id": "cd1751a1",
   "metadata": {},
   "source": [
    "---\n",
    "\n",
    "## 📝 퀴즈\n",
    "\n",
    "### 퀴즈 1: 삼성 직원 클래스 정의\n",
    "\n",
    "**문제**: 이름과 사번 속성을 가진 SamsungEmployee 클래스를 정의하고 객체를 생성하여 정보를 출력하세요. 클래스는 __init__ 메소드와 직원 정보를 표시하는 introduce() 메소드를 가져야 합니다.\n",
    "\n",
    "**답을 여기에 작성하세요**:"
   ]
  },
  {
   "cell_type": "code",
   "execution_count": null,
   "id": "eb2d2b68",
   "metadata": {},
   "outputs": [],
   "source": [
    "# 여기에 코드를 작성하세요"
   ]
  },
  {
   "cell_type": "markdown",
   "id": "e7d662e6",
   "metadata": {},
   "source": [
    "### 퀴즈 2: 삼성 제품 상속 클래스\n",
    "\n",
    "**문제**: model_name 속성과 power_on() 메소드가 있는 SamsungProduct 부모 클래스를 만드세요. power_on()을 재정의하여 \"갤럭시가 시작됩니다!\"를 반환하는 Galaxy 자식 클래스를 만드세요. 두 클래스를 모두 테스트하세요.\n",
    "\n",
    "**답을 여기에 작성하세요**:"
   ]
  },
  {
   "cell_type": "code",
   "execution_count": null,
   "id": "9a9b3ee4",
   "metadata": {},
   "outputs": [],
   "source": [
    "# 여기에 코드를 작성하세요"
   ]
  },
  {
   "cell_type": "markdown",
   "id": "9817295f",
   "metadata": {},
   "source": [
    "### 퀴즈 3: 삼성페이 계정 클래스\n",
    "\n",
    "**문제**: 계정번호, 잔액 속성과 charge(충전)/pay(결제) 메소드가 있는 SamsungPay 클래스를 만드세요. charge 메소드는 돈을 추가하고 pay 메소드는 잔액에서 돈을 빼야 합니다.\n",
    "\n",
    "**답을 여기에 작성하세요**:"
   ]
  },
  {
   "cell_type": "code",
   "execution_count": null,
   "id": "0928a2c3",
   "metadata": {},
   "outputs": [],
   "source": [
    "# 여기에 코드를 작성하세요"
   ]
  },
  {
   "cell_type": "markdown",
   "id": "b726efcc",
   "metadata": {},
   "source": [
    "---\n",
    "\n",
    "## 📖 참고 자료\n",
    "\n",
    "1. **Python 클래스 튜토리얼**: https://docs.python.org/3/tutorial/classes.html\n",
    "2. **객체지향 프로그래밍 기초**: https://realpython.com/python3-object-oriented-programming/\n",
    "3. **Python OOP 가이드**: https://www.programiz.com/python-programming/object-oriented-programming\n",
    "\n",
    "---\n",
    "\n",
    "## 💡 핵심 포인트\n",
    "\n",
    "### 기억하세요\n",
    "\n",
    "1. **클래스 = 템플릿, 객체 = 실제 물건**\n",
    "2. **__init__를 사용하여 객체 설정**\n",
    "3. **self는 현재 객체를 가리킴**\n",
    "4. **메소드는 클래스 내부의 함수**\n",
    "5. **상속 = 자식이 부모의 능력을 물려받음**\n",
    "\n",
    "### 일반적인 클래스 패턴\n",
    "\n",
    "- **속성**: 객체의 데이터 저장\n",
    "- **메소드**: 객체의 행동 정의\n",
    "- **상속**: 코드 재사용과 확장\n",
    "- **재정의**: 부모 메소드를 자식에서 변경\n",
    "\n",
    "### 실제 활용 예시\n",
    "\n",
    "- **게임 캐릭터**: 플레이어, 몬스터, NPC 클래스\n",
    "- **도서 관리**: 책, 회원, 대출 클래스\n",
    "- **온라인 쇼핑**: 상품, 고객, 주문 클래스\n",
    "- **학교 관리**: 학생, 교사, 과목 클래스\n",
    "\n",
    "### 주의사항\n",
    "\n",
    "1. **클래스명은 대문자로 시작** (PascalCase)\n",
    "2. **메소드에는 항상 self 매개변수 포함**\n",
    "3. **상속 시 super()로 부모 메소드 호출**\n",
    "4. **적절한 캡슐화로 데이터 보호**\n",
    "\n",
    "---\n",
    "\n",
    "## 📋 숙제\n",
    "\n",
    "1. **연습**: 모든 실습 문제를 완료하고 다양한 케이스로 테스트해보기\n",
    "2. **응용**: 자신이 아는 실제 사물을 나타내는 클래스 만들기 (예: 휴대폰, 자동차, 애완동물 등)\n",
    "3. **심화**: 상속을 사용해서 부모-자식 클래스 쌍을 만들어보기\n",
    "4. **프로젝트**: 간단한 게임이나 관리 시스템을 클래스로 설계해보기\n",
    "\n",
    "**클래스는 코드를 구성하고 실세계 사물을 표현하는 강력한 도구입니다!**"
   ]
  }
 ],
 "metadata": {
  "jupytext": {
   "cell_metadata_filter": "-all",
   "main_language": "python",
   "notebook_metadata_filter": "-all"
  },
  "language_info": {
   "name": "python"
  }
 },
 "nbformat": 4,
 "nbformat_minor": 5
}
