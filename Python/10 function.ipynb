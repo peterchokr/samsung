{
 "cells": [
  {
   "cell_type": "markdown",
   "id": "a8ab0766",
   "metadata": {},
   "source": [
    "# 파이썬 함수 - 기초부터 고급까지\n",
    "\n",
    "**Python Functions Complete Guide - From Basics to Advanced**  \n",
    "\n",
    "**수업 시간**: 3시간  \n",
    "**구성**: 강의 및 실습 2시간 + 퀴즈 1시간  \n",
    "**수준**: 초급에서 중급으로  \n",
    "\n",
    "---\n",
    "\n",
    "## 학습 목표\n",
    "\n",
    "이 수업을 마친 후 학생들은 다음을 할 수 있습니다:\n",
    "\n",
    "- 함수(Function)가 무엇이고 왜 유용한지 이해\n",
    "- def 키워드를 사용하여 함수 정의\n",
    "- 매개변수(Parameter)와 인수(Argument)가 있는 함수 생성\n",
    "- 반환값(Return Value)을 사용하여 함수에서 결과 얻기\n",
    "- 기본 매개변수값(Default Parameter)과 키워드 인수(Keyword Argument) 활용\n",
    "- 지역변수(Local Variable)와 전역변수(Global Variable)의 차이점 이해\n",
    "- 함수 내에서 다른 함수 호출하여 복잡한 프로그램 작성\n",
    "\n",
    "---\n",
    "\n",
    "## 1. 함수란 무엇인가?\n",
    "\n",
    "### 정의\n",
    "\n",
    "**함수(Function)**는 특정 작업을 수행하는 조직화되고 재사용 가능한 코드 블록입니다. 메인 프로그램 안의 **미니 프로그램**이라고 생각할 수 있습니다.\n",
    "\n",
    "### 실생활 비유\n",
    "\n",
    "함수는 **주방 기구**와 같습니다:\n",
    "\n",
    "```\n",
    "믹서기(Blender):\n",
    "- 입력: 과일과 우유\n",
    "- 과정: 재료 혼합\n",
    "- 출력: 스무디\n",
    "\n",
    "함수(Function):\n",
    "- 입력: 매개변수(Parameters)\n",
    "- 과정: 코드 실행\n",
    "- 출력: 반환값(Return Value)\n",
    "```\n",
    "\n",
    "### 함수를 사용하는 이유\n",
    "\n",
    "#### 1. 코드 재사용성(Code Reusability)\n",
    "\n",
    "같은 코드를 여러 번 작성하는 대신, 함수에 한 번만 작성:"
   ]
  },
  {
   "cell_type": "code",
   "execution_count": null,
   "id": "cbdb5786",
   "metadata": {},
   "outputs": [],
   "source": [
    "# 함수 없이 - 반복적인 코드\n",
    "print(\"환영합니다, 철수님!\")\n",
    "print(\"환영합니다, 영희님!\")\n",
    "print(\"환영합니다, 민수님!\")\n",
    "\n",
    "# 함수 사용 - 재사용 가능한 코드\n",
    "def greet_user(name):\n",
    "    print(f\"환영합니다, {name}님!\")\n",
    "\n",
    "greet_user(\"철수\")\n",
    "greet_user(\"영희\")\n",
    "greet_user(\"민수\")"
   ]
  },
  {
   "cell_type": "markdown",
   "id": "1fbf6644",
   "metadata": {},
   "source": [
    "#### 2. 코드 구성(Code Organization)\n",
    "\n",
    "함수는 코드를 논리적인 조각으로 구성하는 데 도움:"
   ]
  },
  {
   "cell_type": "code",
   "execution_count": null,
   "id": "8a474cfc",
   "metadata": {},
   "outputs": [],
   "source": [
    "def calculate_area(length, width):\n",
    "    return length * width\n",
    "\n",
    "def calculate_perimeter(length, width):\n",
    "    return 2 * (length + width)\n",
    "\n",
    "def display_rectangle_info(length, width):\n",
    "    area = calculate_area(length, width)\n",
    "    perimeter = calculate_perimeter(length, width)\n",
    "    print(f\"넓이: {area}\")\n",
    "    print(f\"둘레: {perimeter}\")"
   ]
  },
  {
   "cell_type": "markdown",
   "id": "563934d8",
   "metadata": {},
   "source": [
    "---\n",
    "\n",
    "## 2. 함수 정의와 기본 사용법\n",
    "\n",
    "### 기본 문법(Syntax)"
   ]
  },
  {
   "cell_type": "code",
   "execution_count": null,
   "id": "0274772d",
   "metadata": {},
   "outputs": [],
   "source": [
    "def function_name():\n",
    "    \"\"\"선택적 문서 문자열(Optional Docstring)\"\"\"\n",
    "    # 함수 본문(Function Body)\n",
    "    # 실행할 코드"
   ]
  },
  {
   "cell_type": "markdown",
   "id": "6f6831c5",
   "metadata": {},
   "source": [
    "### 주요 구성 요소\n",
    "\n",
    "1. **def 키워드**: 파이썬에게 함수를 정의한다고 알림\n",
    "2. **함수 이름**: 함수를 호출할 때 사용하는 이름\n",
    "3. **괄호()**: 매개변수(Parameters)를 담음\n",
    "4. **콜론(:)**: 함수 본문의 시작을 나타냄\n",
    "5. **들여쓰기**: 모든 함수 코드는 들여쓰기되어야 함\n",
    "\n",
    "### 간단한 함수 예시"
   ]
  },
  {
   "cell_type": "code",
   "execution_count": null,
   "id": "0cab5674",
   "metadata": {},
   "outputs": [],
   "source": [
    "def say_hello():\n",
    "    print(\"안녕하세요!\")\n",
    "    print(\"만나서 반갑습니다!\")\n",
    "\n",
    "# 함수 호출\n",
    "say_hello()"
   ]
  },
  {
   "cell_type": "code",
   "execution_count": null,
   "id": "5fe1e5dc",
   "metadata": {},
   "outputs": [],
   "source": [
    "def show_current_time():\n",
    "    import datetime\n",
    "    now = datetime.datetime.now()\n",
    "    print(f\"현재 시간: {now.strftime('%H:%M:%S')}\")\n",
    "\n",
    "show_current_time()"
   ]
  },
  {
   "cell_type": "markdown",
   "id": "30a715c0",
   "metadata": {},
   "source": [
    "---\n",
    "\n",
    "## 3. 매개변수와 인수\n",
    "\n",
    "### 차이점 이해하기\n",
    "\n",
    "- **매개변수(Parameters)**: 함수 정의에서 정의된 변수\n",
    "- **인수(Arguments)**: 함수 호출 시 전달되는 실제 값"
   ]
  },
  {
   "cell_type": "code",
   "execution_count": null,
   "id": "7d9a1c5b",
   "metadata": {},
   "outputs": [],
   "source": [
    "def greet_person(name):    # 'name'은 매개변수\n",
    "    print(f\"안녕하세요, {name}님!\")\n",
    "\n",
    "greet_person(\"철수\")      # \"철수\"는 인수"
   ]
  },
  {
   "cell_type": "markdown",
   "id": "2da35d72",
   "metadata": {},
   "source": [
    "### 매개변수가 있는 함수\n",
    "\n",
    "#### 단일 매개변수"
   ]
  },
  {
   "cell_type": "code",
   "execution_count": null,
   "id": "f560c621",
   "metadata": {},
   "outputs": [],
   "source": [
    "def square_number(num):\n",
    "    result = num * num\n",
    "    print(f\"{num}의 제곱은 {result}입니다\")\n",
    "\n",
    "square_number(5)    # 출력: 5의 제곱은 25입니다"
   ]
  },
  {
   "cell_type": "markdown",
   "id": "8131a4fb",
   "metadata": {},
   "source": [
    "#### 다중 매개변수"
   ]
  },
  {
   "cell_type": "code",
   "execution_count": null,
   "id": "416376b7",
   "metadata": {},
   "outputs": [],
   "source": [
    "def calculate_rectangle_area(length, width):\n",
    "    area = length * width\n",
    "    print(f\"직사각형 넓이: {area}\")\n",
    "\n",
    "calculate_rectangle_area(5, 3)    # 출력: 직사각형 넓이: 15"
   ]
  },
  {
   "cell_type": "markdown",
   "id": "01df3760",
   "metadata": {},
   "source": [
    "### 기본 매개변수값(Default Parameters)\n",
    "\n",
    "매개변수에 기본값을 제공할 수 있습니다:"
   ]
  },
  {
   "cell_type": "code",
   "execution_count": null,
   "id": "b5107dcd",
   "metadata": {},
   "outputs": [],
   "source": [
    "def greet_with_title(name, title=\"님\"):\n",
    "    print(f\"안녕하세요, {title} {name}!\")\n",
    "\n",
    "greet_with_title(\"김철수\")          # 기본 타이틀 사용\n",
    "greet_with_title(\"박영희\", \"선생님\")  # 제공된 타이틀 사용"
   ]
  },
  {
   "cell_type": "markdown",
   "id": "61b36429",
   "metadata": {},
   "source": [
    "**중요한 규칙**: 기본 매개변수는 비기본 매개변수 **뒤에** 와야 합니다:"
   ]
  },
  {
   "cell_type": "code",
   "execution_count": null,
   "id": "6f73a967",
   "metadata": {},
   "outputs": [],
   "source": [
    "# 올바른 방법\n",
    "def order_coffee(size, milk=\"일반\", sugar=1):\n",
    "    return f\"{size} 커피, {milk} 우유, 설탕 {sugar}개\"\n",
    "\n",
    "# 잘못된 방법 - SyntaxError 발생!\n",
    "# def bad_function(milk=\"일반\", size):\n",
    "#     pass"
   ]
  },
  {
   "cell_type": "markdown",
   "id": "8e78e69b",
   "metadata": {},
   "source": [
    "### 키워드 인수(Keyword Arguments)\n",
    "\n",
    "**키워드 인수**는 매개변수 이름을 사용하여 어떤 매개변수에 값을 전달하는지 지정할 수 있게 해줍니다.\n",
    "\n",
    "#### 장점\n",
    "\n",
    "- **명확성**: 코드를 더 읽기 쉽게 만듦\n",
    "- **유연성**: 인수를 어떤 순서로든 전달 가능"
   ]
  },
  {
   "cell_type": "code",
   "execution_count": null,
   "id": "fb2eb288",
   "metadata": {},
   "outputs": [],
   "source": [
    "def create_profile(name, age, grade=\"A\", school=\"미정\"):\n",
    "    return f\"학생: {name}, 나이: {age}, 등급: {grade}, 학교: {school}\"\n",
    "\n",
    "# 키워드 인수 사용\n",
    "profile1 = create_profile(name=\"철수\", age=18, school=\"서울고등학교\")\n",
    "profile2 = create_profile(age=19, name=\"영희\", grade=\"B\")\n",
    "\n",
    "print(profile1)\n",
    "print(profile2)"
   ]
  },
  {
   "cell_type": "markdown",
   "id": "2ec8a0ff",
   "metadata": {},
   "source": [
    "---\n",
    "\n",
    "## 4. 반환값과 변수 범위\n",
    "\n",
    "### 반환값(Return Values)이란?\n",
    "\n",
    "**반환값**은 함수가 그것을 호출한 코드에게 돌려주는 결과입니다. 함수의 **출력**과 같습니다.\n",
    "\n",
    "### return 문 사용하기"
   ]
  },
  {
   "cell_type": "code",
   "execution_count": null,
   "id": "baeecb9a",
   "metadata": {},
   "outputs": [],
   "source": [
    "def add_numbers(a, b):\n",
    "    total = a + b\n",
    "    return total\n",
    "\n",
    "# 함수가 반환하는 값을 사용할 수 있습니다\n",
    "result = add_numbers(5, 3)\n",
    "print(f\"5 + 3 = {result}\")  # 출력: 5 + 3 = 8\n",
    "\n",
    "# 반환된 값을 직접 사용\n",
    "print(f\"합의 두 배: {add_numbers(4, 6) * 2}\")"
   ]
  },
  {
   "cell_type": "markdown",
   "id": "98f9456f",
   "metadata": {},
   "source": [
    "### return vs print 비교\n",
    "\n",
    "차이점을 이해하는 것이 중요합니다:"
   ]
  },
  {
   "cell_type": "code",
   "execution_count": null,
   "id": "d3f5b724",
   "metadata": {},
   "outputs": [],
   "source": [
    "# 출력하는 함수\n",
    "def print_sum(a, b):\n",
    "    print(a + b)\n",
    "\n",
    "# 반환하는 함수\n",
    "def calculate_sum(a, b):\n",
    "    return a + b\n",
    "\n",
    "# 사용 예시\n",
    "print_sum(3, 4)           # 7을 출력 (하지만 None을 반환)\n",
    "result = calculate_sum(3, 4)  # 7을 반환 (이 값을 사용할 수 있음)\n",
    "print(result)             # 7을 출력\n",
    "\n",
    "# 반환된 값을 계산에 사용\n",
    "total = calculate_sum(5, 10) + calculate_sum(2, 3)\n",
    "print(total)              # 20을 출력"
   ]
  },
  {
   "cell_type": "markdown",
   "id": "0968c9af",
   "metadata": {},
   "source": [
    "### 지역변수 vs 전역변수\n",
    "\n",
    "#### 변수 범위(Variable Scope) 이해하기\n",
    "\n",
    "**변수 범위**는 프로그램에서 변수에 접근할 수 있는 위치를 결정합니다.\n",
    "\n",
    "#### 지역변수(Local Variables)\n",
    "\n",
    "함수 **내부**에서 생성된 변수 - 해당 함수 내에서만 접근 가능:"
   ]
  },
  {
   "cell_type": "code",
   "execution_count": null,
   "id": "15f51b5e",
   "metadata": {},
   "outputs": [],
   "source": [
    "def calculate_tax(price):\n",
    "    tax_amount = price * 0.08  # 지역변수\n",
    "    total = price + tax_amount # 지역변수\n",
    "    return total\n",
    "\n",
    "result = calculate_tax(100)\n",
    "print(result)  # 108.0\n",
    "\n",
    "# print(tax_amount)  # 오류! 지역변수에 접근할 수 없음"
   ]
  },
  {
   "cell_type": "markdown",
   "id": "769d3302",
   "metadata": {},
   "source": [
    "#### 전역변수(Global Variables)\n",
    "\n",
    "함수 **외부**에서 생성된 변수 - 어디서든 접근 가능:"
   ]
  },
  {
   "cell_type": "code",
   "execution_count": null,
   "id": "5265949b",
   "metadata": {},
   "outputs": [],
   "source": [
    "company_name = \"테크기업\"  # 전역변수\n",
    "tax_rate = 0.08          # 전역변수\n",
    "\n",
    "def show_info():\n",
    "    print(f\"회사명: {company_name}\")  # 전역변수 읽기 가능\n",
    "    print(f\"세율: {tax_rate}\")\n",
    "\n",
    "def calculate_price(base_price):\n",
    "    return base_price * (1 + tax_rate)  # 전역변수 사용\n",
    "\n",
    "show_info()\n",
    "print(f\"최종 가격: {calculate_price(100)}원\")"
   ]
  },
  {
   "cell_type": "markdown",
   "id": "6cc0f980",
   "metadata": {},
   "source": [
    "#### 전역변수 수정하기\n",
    "\n",
    "함수 내부에서 전역변수를 수정하려면 `global` 키워드를 사용:"
   ]
  },
  {
   "cell_type": "code",
   "execution_count": null,
   "id": "4edd8052",
   "metadata": {},
   "outputs": [],
   "source": [
    "counter = 0  # 전역변수\n",
    "\n",
    "def increment_counter():\n",
    "    global counter  # 전역변수를 수정하겠다고 명시\n",
    "    counter += 1\n",
    "    print(f\"카운터: {counter}\")\n",
    "\n",
    "def reset_counter():\n",
    "    global counter\n",
    "    counter = 0\n",
    "    print(\"카운터를 0으로 초기화했습니다\")\n",
    "\n",
    "increment_counter()  # 카운터: 1\n",
    "increment_counter()  # 카운터: 2\n",
    "reset_counter()      # 카운터를 0으로 초기화했습니다"
   ]
  },
  {
   "cell_type": "markdown",
   "id": "f8c7c82d",
   "metadata": {},
   "source": [
    "---\n",
    "\n",
    "## 5. 함수에서 함수 호출\n",
    "\n",
    "### 왜 여러 함수를 사용하나요?\n",
    "\n",
    "코드를 더 작은 함수로 나누면:\n",
    "\n",
    "- **이해하기 쉬움**\n",
    "- **테스트하기 쉬움**\n",
    "- **재사용 가능**\n",
    "\n",
    "### 간단한 예시: 주문 시스템"
   ]
  },
  {
   "cell_type": "code",
   "execution_count": null,
   "id": "a07c848e",
   "metadata": {},
   "outputs": [],
   "source": [
    "def calculate_tax(price):\n",
    "    return price * 0.08\n",
    "\n",
    "def calculate_tip(price):\n",
    "    return price * 0.15\n",
    "\n",
    "def process_order(meal_price):\n",
    "    print(f\"음식 가격: {meal_price:,}원\")\n",
    "  \n",
    "    tax = calculate_tax(meal_price)\n",
    "    print(f\"세금: {tax:,}원\")\n",
    "  \n",
    "    tip = calculate_tip(meal_price)\n",
    "    print(f\"팁: {tip:,}원\")\n",
    "  \n",
    "    total = meal_price + tax + tip\n",
    "    print(f\"총 금액: {total:,}원\")\n",
    "  \n",
    "    return total\n",
    "\n",
    "# 시스템 테스트\n",
    "final_cost = process_order(25000)"
   ]
  },
  {
   "cell_type": "markdown",
   "id": "11e9e7a8",
   "metadata": {},
   "source": [
    "### 성적 계산기 예시"
   ]
  },
  {
   "cell_type": "code",
   "execution_count": null,
   "id": "34620226",
   "metadata": {},
   "outputs": [],
   "source": [
    "def calculate_average(scores):\n",
    "    return sum(scores) / len(scores)\n",
    "\n",
    "def get_letter_grade(average):\n",
    "    if average >= 90:\n",
    "        return \"A\"\n",
    "    elif average >= 80:\n",
    "        return \"B\"\n",
    "    elif average >= 70:\n",
    "        return \"C\"\n",
    "    else:\n",
    "        return \"F\"\n",
    "\n",
    "def generate_report(student_name, test_scores):\n",
    "    print(f\"학생: {student_name}\")\n",
    "  \n",
    "    average = calculate_average(test_scores)\n",
    "    print(f\"평균: {average:.2f}점\")\n",
    "  \n",
    "    grade = get_letter_grade(average)\n",
    "    print(f\"등급: {grade}\")\n",
    "  \n",
    "    return grade\n",
    "\n",
    "# 시스템 테스트\n",
    "student_grade = generate_report(\"김철수\", [85, 92, 78, 90])"
   ]
  },
  {
   "cell_type": "markdown",
   "id": "60758517",
   "metadata": {},
   "source": [
    "---\n",
    "\n",
    "## 실습\n",
    "\n",
    "### 실습 1: 유연한 계산기\n",
    "\n",
    "**문제**: 기본 매개변수와 키워드 인수가 있는 계산기를 만드세요.\n",
    "\n",
    "**정답**:"
   ]
  },
  {
   "cell_type": "code",
   "execution_count": null,
   "id": "d663309e",
   "metadata": {},
   "outputs": [],
   "source": [
    "def calculate(num1, num2, operation=\"더하기\", show_steps=False):\n",
    "    \"\"\"기본 연산이 있는 유연한 계산기\"\"\"\n",
    "  \n",
    "    if show_steps:\n",
    "        print(f\"계산 중: {num1} {operation} {num2}\")\n",
    "  \n",
    "    if operation == \"더하기\":\n",
    "        result = num1 + num2\n",
    "    elif operation == \"빼기\":\n",
    "        result = num1 - num2\n",
    "    elif operation == \"곱하기\":\n",
    "        result = num1 * num2\n",
    "    elif operation == \"나누기\":\n",
    "        if num2 != 0:\n",
    "            result = num1 / num2\n",
    "        else:\n",
    "            return \"0으로 나눌 수 없습니다!\"\n",
    "    else:\n",
    "        return \"잘못된 연산입니다\"\n",
    "  \n",
    "    if show_steps:\n",
    "        print(f\"결과: {result}\")\n",
    "  \n",
    "    return result\n",
    "\n",
    "# 계산기 테스트\n",
    "print(\"=== 계산기 테스트 ===\")\n",
    "print(calculate(10, 5))  # 기본: 더하기\n",
    "print(calculate(10, 5, \"곱하기\"))\n",
    "print(calculate(num1=20, num2=4, operation=\"나누기\", show_steps=True))\n",
    "print(calculate(operation=\"빼기\", num1=15, num2=7))"
   ]
  },
  {
   "cell_type": "markdown",
   "id": "343db173",
   "metadata": {},
   "source": [
    "### 실습 2: 전역 점수 추적기\n",
    "\n",
    "**문제**: 전역변수를 사용하여 간단한 게임 점수 시스템을 만드세요.\n",
    "\n",
    "**정답**:"
   ]
  },
  {
   "cell_type": "code",
   "execution_count": null,
   "id": "9125ed10",
   "metadata": {},
   "outputs": [],
   "source": [
    "# 전역변수\n",
    "player_score = 0\n",
    "player_level = 1\n",
    "\n",
    "def add_points(points):\n",
    "    global player_score\n",
    "    player_score += points\n",
    "    print(f\"{points}점 추가! 총점: {player_score}점\")\n",
    "\n",
    "def level_up():\n",
    "    global player_level, player_score\n",
    "    player_level += 1\n",
    "    bonus = player_level * 100\n",
    "    player_score += bonus\n",
    "    print(f\"레벨 업! 현재 레벨 {player_level}\")\n",
    "    print(f\"보너스: {bonus}점! 총점: {player_score}점\")\n",
    "\n",
    "def show_status():\n",
    "    print(f\"플레이어 상태 - 레벨: {player_level}, 점수: {player_score}점\")\n",
    "\n",
    "def reset_game():\n",
    "    global player_score, player_level\n",
    "    player_score = 0\n",
    "    player_level = 1\n",
    "    print(\"게임이 초기화되었습니다!\")\n",
    "\n",
    "# 시스템 테스트\n",
    "print(\"=== 게임 점수 시스템 ===\")\n",
    "show_status()\n",
    "add_points(250)\n",
    "add_points(150)\n",
    "level_up()\n",
    "show_status()\n",
    "reset_game()\n",
    "show_status()"
   ]
  },
  {
   "cell_type": "markdown",
   "id": "ce40f2d2",
   "metadata": {},
   "source": [
    "### 실습 3: 학생 성적 시스템\n",
    "\n",
    "**문제**: 함수들이 함께 작동하는 성적 시스템을 만드세요.\n",
    "\n",
    "**정답**:"
   ]
  },
  {
   "cell_type": "code",
   "execution_count": null,
   "id": "1d26bc80",
   "metadata": {},
   "outputs": [],
   "source": [
    "def calculate_average(scores):\n",
    "    return sum(scores) / len(scores) if scores else 0\n",
    "\n",
    "def determine_grade(average):\n",
    "    if average >= 90: return \"A\"\n",
    "    elif average >= 80: return \"B\"\n",
    "    elif average >= 70: return \"C\"\n",
    "    elif average >= 60: return \"D\"\n",
    "    else: return \"F\"\n",
    "\n",
    "def get_status(grade):\n",
    "    if grade in [\"A\", \"B\"]:\n",
    "        return \"우수\"\n",
    "    elif grade == \"C\":\n",
    "        return \"보통\"\n",
    "    else:\n",
    "        return \"개선 필요\"\n",
    "\n",
    "def create_report(name, scores, show_details=True):\n",
    "    print(f\"\\n=== 성적표: {name} ===\")\n",
    "  \n",
    "    if show_details:\n",
    "        print(f\"점수: {scores}\")\n",
    "  \n",
    "    average = calculate_average(scores)\n",
    "    print(f\"평균: {average:.2f}점\")\n",
    "  \n",
    "    grade = determine_grade(average)\n",
    "    print(f\"등급: {grade}\")\n",
    "  \n",
    "    status = get_status(grade)\n",
    "    print(f\"상태: {status}\")\n",
    "  \n",
    "    return grade\n",
    "\n",
    "# 시스템 테스트\n",
    "print(\"=== 학생 성적 시스템 ===\")\n",
    "alice_grade = create_report(\"김철수\", [85, 92, 78, 90])\n",
    "bob_grade = create_report(\"박영희\", [95, 88, 94], show_details=False)"
   ]
  },
  {
   "cell_type": "markdown",
   "id": "d2e9d49f",
   "metadata": {},
   "source": [
    "---\n",
    "\n",
    "## 퀴즈\n",
    "\n",
    "### 퀴즈 1: 함수 정의 및 기본 사용법\n",
    "\n",
    "**문제**: `calculate_tax`라는 함수를 작성하세요. 이 함수는 두 개의 매개변수를 받습니다: `income`(연간 소득)과 `tax_rate`(백분율). 함수는 세금 금액을 계산하고 반환해야 합니다. 그런 다음 소득 5,000만원과 세율 15%로 함수를 테스트하는 코드를 작성하세요.\n",
    "\n",
    "추가로, 같은 매개변수를 받지만 소득, 세율, 세금 금액, 순소득(소득 - 세금)을 보여주는 형식화된 메시지를 출력하는 `display_tax_info` 함수를 만드세요.\n",
    "\n",
    "**답을 여기에 작성하세요**:"
   ]
  },
  {
   "cell_type": "code",
   "execution_count": null,
   "id": "e548095b",
   "metadata": {},
   "outputs": [],
   "source": [
    "# 여기에 코드를 작성하세요"
   ]
  },
  {
   "cell_type": "markdown",
   "id": "45236449",
   "metadata": {},
   "source": [
    "### 퀴즈 2: 기본 매개변수와 키워드 인수\n",
    "\n",
    "**문제**: `book_ticket`라는 함수를 만드세요. 다음 매개변수들을 받습니다:\n",
    "\n",
    "- `destination` (필수)\n",
    "- `passenger_name` (필수)\n",
    "- `seat_class` (기본값: \"이코노미\")\n",
    "- `meal_preference` (기본값: \"없음\")\n",
    "\n",
    "함수는 형식화된 예약 확인서를 반환해야 합니다. 다양한 매개변수 조합으로 테스트하세요.\n",
    "\n",
    "**답을 여기에 작성하세요**:"
   ]
  },
  {
   "cell_type": "code",
   "execution_count": null,
   "id": "d4a820f9",
   "metadata": {},
   "outputs": [],
   "source": [
    "# 여기에 코드를 작성하세요"
   ]
  },
  {
   "cell_type": "markdown",
   "id": "7433d995",
   "metadata": {},
   "source": [
    "### 퀴즈 3: 함수 협력과 전역변수\n",
    "\n",
    "**문제**: 다음 전역변수와 함수들로 간단한 재고 시스템을 만드세요:\n",
    "\n",
    "- 전역변수: `inventory_count`, `item_name`\n",
    "- `set_item(name, count)` - 재고 초기화\n",
    "- `add_stock(amount)` - 재고 추가\n",
    "- `sell_item(amount)` - 판매 (충분한 재고가 있는 경우)\n",
    "- `check_inventory()` - 재고 확인\n",
    "\n",
    "**답을 여기에 작성하세요**:"
   ]
  },
  {
   "cell_type": "code",
   "execution_count": null,
   "id": "01d6a05f",
   "metadata": {},
   "outputs": [],
   "source": [
    "# 여기에 코드를 작성하세요"
   ]
  },
  {
   "cell_type": "markdown",
   "id": "a938d157",
   "metadata": {},
   "source": [
    "---\n",
    "\n",
    "## 참고 자료\n",
    "\n",
    "1. **파이썬 함수 공식 문서**: https://docs.python.org/3/tutorial/controlflow.html#defining-functions\n",
    "\n",
    "   - 함수 정의와 사용에 대한 공식 파이썬 문서\n",
    "2. **Real Python - 파이썬 함수**: https://realpython.com/defining-your-own-python-function/\n",
    "\n",
    "   - 함수 생성 및 사용에 대한 종합 튜토리얼\n",
    "3. **W3Schools 파이썬 함수**: https://www.w3schools.com/python/python_functions.asp\n",
    "\n",
    "   - 함수 학습을 위한 대화형 예제와 연습\n",
    "\n",
    "---\n",
    "\n",
    "## 핵심 요점\n",
    "\n",
    "### 기억해야 할 규칙들\n",
    "\n",
    "1. **기본 매개변수**는 필수 매개변수 뒤에 위치\n",
    "2. **키워드 인수**는 함수 호출을 더 명확하게 만듦\n",
    "3. 함수에서 전역변수를 수정할 때 **global** 키워드 사용\n",
    "4. **복잡한 문제**를 더 작은 함수로 나누기\n",
    "\n",
    "### 함수 작성 모범 사례\n",
    "\n",
    "#### 1. 설명적인 함수 이름 사용"
   ]
  },
  {
   "cell_type": "code",
   "execution_count": null,
   "id": "ae253684",
   "metadata": {},
   "outputs": [],
   "source": [
    "# 좋은 예시\n",
    "def calculate_area(length, width):\n",
    "def check_password_strength(password):\n",
    "\n",
    "# 나쁜 예시  \n",
    "def calc(a, b):\n",
    "def check(x):"
   ]
  },
  {
   "cell_type": "markdown",
   "id": "05485895",
   "metadata": {},
   "source": [
    "#### 2. 함수를 집중적으로 유지\n",
    "\n",
    "각 함수는 한 가지 일을 잘해야 합니다:"
   ]
  },
  {
   "cell_type": "code",
   "execution_count": null,
   "id": "8ba37c97",
   "metadata": {},
   "outputs": [],
   "source": [
    "# 좋은 예시 - 집중된 함수\n",
    "def calculate_circle_area(radius):\n",
    "    return 3.14159 * radius * radius\n",
    "\n",
    "# 나쁜 예시 - 너무 많은 일을 함\n",
    "def circle_operations(radius):\n",
    "    area = 3.14159 * radius * radius\n",
    "    circumference = 2 * 3.14159 * radius\n",
    "    print(f\"넓이: {area}\")\n",
    "    print(f\"둘레: {circumference}\")\n",
    "    return area, circumference"
   ]
  },
  {
   "cell_type": "markdown",
   "id": "874b5db6",
   "metadata": {},
   "source": [
    "---\n",
    "\n",
    "## 숙제\n",
    "\n",
    "1. **연습**: 3개 실습을 모두 완료하고 수정 사항 실험\n",
    "2. **생성**: 키와 몸무게가 주어졌을 때 체질량지수(BMI)를 계산하는 함수 작성\n",
    "3. **실험**: 다양한 개수의 매개변수를 가진 함수 만들기 시도\n",
    "4. **도전**: 각 메뉴 옵션에 함수를 사용하는 간단한 텍스트 기반 메뉴 시스템 만들기\n",
    "\n",
    "**함수는 코드를 더 체계적이고 강력하게 만들어줍니다!**"
   ]
  }
 ],
 "metadata": {
  "jupytext": {
   "cell_metadata_filter": "-all",
   "main_language": "python",
   "notebook_metadata_filter": "-all"
  },
  "language_info": {
   "name": "python"
  }
 },
 "nbformat": 4,
 "nbformat_minor": 5
}
