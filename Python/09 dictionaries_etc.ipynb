{
 "cells": [
  {
   "cell_type": "markdown",
   "id": "81c8fdb8",
   "metadata": {},
   "source": [
    "# 파이썬 딕셔너리(Dictionary)와 데이터 구조  \n",
    "\n",
    "**수업 시간**: 3시간  \n",
    "**구성**: 강의 및 실습 2시간 + 퀴즈 1시간  \n",
    "**수준**: 중급 초급  \n",
    "\n",
    "---\n",
    "\n",
    "## 🎯 학습 목표\n",
    "\n",
    "이 수업을 마친 후 학생들은 다음을 할 수 있습니다:\n",
    "\n",
    "- 딕셔너리(Dictionary)가 무엇인지, 왜 유용한지 이해하기\n",
    "- 키-값 쌍(Key-Value Pair) 개념을 실제 예시로 설명하기\n",
    "- 딕셔너리 생성, 접근, 수정하기\n",
    "- 딕셔너리 메소드(Method)를 효과적으로 사용하기\n",
    "- 딕셔너리와 리스트를 조합하여 복잡한 데이터 관리하기\n",
    "- 세트(Set) 자료형으로 고유 컬렉션 다루기\n",
    "- 상황에 적합한 데이터 구조 선택하기\n",
    "\n",
    "---\n",
    "\n",
    "## 🗃️ 1. 딕셔너리란 무엇인가?\n",
    "\n",
    "### 정의\n",
    "\n",
    "**딕셔너리(Dictionary)**는 각 항목이 **키(Key)**와 **값(Value)**으로 구성된 항목들의 모음입니다. 실제 사전에서 단어를 사용해 의미를 찾는 것처럼, 키를 사용해 값을 찾습니다.\n",
    "\n",
    "### 실생활 비유\n",
    "\n",
    "딕셔너리를 **전화번호부**나 **연락처 목록**처럼 생각해보세요:\n",
    "\n",
    "```\n",
    "전화번호부:\n",
    "이름 (키)     → 전화번호 (값)\n",
    "\"김철수\"      → \"010-1234-5678\"\n",
    "\"이영희\"      → \"010-2345-6789\"\n",
    "\"박민수\"      → \"010-3456-7890\"\n",
    "\n",
    "파이썬 딕셔너리:\n",
    "student_grades = {\n",
    "    \"김철수\": 95,\n",
    "    \"이영희\": 87,\n",
    "    \"박민수\": 92\n",
    "}\n",
    "```\n",
    "\n",
    "### 왜 딕셔너리를 사용하나요?\n",
    "\n",
    "**리스트 대비 장점:**\n",
    "\n",
    "- **빠른 검색**: 키를 사용해 값을 즉시 찾기\n",
    "- **의미 있는 이름**: 키가 데이터가 무엇을 나타내는지 설명\n",
    "- **유연한 구조**: 인덱스 번호를 기억할 필요 없음\n",
    "\n",
    "다음 접근법들을 비교해보세요:"
   ]
  },
  {
   "cell_type": "code",
   "execution_count": null,
   "id": "981b0470",
   "metadata": {},
   "outputs": [],
   "source": [
    "# 리스트 사용 (각 인덱스가 무엇을 의미하는지 기억하기 어려움)\n",
    "student_info = [\"김철수\", 20, 95, \"컴퓨터공학과\"]\n",
    "name = student_info[0]        # 인덱스 0이 이름인지 기억하기 어려움\n",
    "age = student_info[1]         # 인덱스 1이 나이인지 기억하기 어려움\n",
    "\n",
    "# 딕셔너리 사용 (자명함)\n",
    "student_info = {\n",
    "    \"name\": \"김철수\",\n",
    "    \"age\": 20,\n",
    "    \"grade\": 95,\n",
    "    \"major\": \"소프트웨어융합과\"\n",
    "}\n",
    "name = student_info[\"name\"]   # 무엇을 가져오는지 명확함\n",
    "age = student_info[\"age\"]     # 스스로 설명됨"
   ]
  },
  {
   "cell_type": "markdown",
   "id": "bc1edc92",
   "metadata": {},
   "source": [
    "---\n",
    "\n",
    "## 🔑 2. 키-값 쌍 개념\n",
    "\n",
    "### 키와 값 이해하기\n",
    "\n",
    "딕셔너리에서 모든 데이터는 두 부분으로 구성됩니다:\n",
    "\n",
    "- **키(Key)**: 데이터의 식별자 또는 \"라벨\"\n",
    "- **값(Value)**: 저장하려는 실제 데이터\n",
    "\n",
    "### 일상생활의 예시\n",
    "\n",
    "#### 예시 1: 학생 정보"
   ]
  },
  {
   "cell_type": "code",
   "execution_count": null,
   "id": "ba6d7195",
   "metadata": {},
   "outputs": [],
   "source": [
    "student = {\n",
    "    \"name\": \"김철수\",           # 키: \"name\", 값: \"김철수\"\n",
    "    \"age\": 19,                 # 키: \"age\", 값: 19\n",
    "    \"major\": \"생물학과\",        # 키: \"major\", 값: \"생물학과\"\n",
    "    \"gpa\": 3.8                # 키: \"gpa\", 값: 3.8\n",
    "}"
   ]
  },
  {
   "cell_type": "markdown",
   "id": "f8ed3bc7",
   "metadata": {},
   "source": [
    "#### 예시 2: 국가 수도"
   ]
  },
  {
   "cell_type": "code",
   "execution_count": null,
   "id": "12655e3c",
   "metadata": {},
   "outputs": [],
   "source": [
    "country_capitals = {\n",
    "    \"대한민국\": \"서울\",\n",
    "    \"일본\": \"도쿄\",\n",
    "    \"미국\": \"워싱턴 D.C.\",\n",
    "    \"프랑스\": \"파리\",\n",
    "    \"독일\": \"베를린\"\n",
    "}"
   ]
  },
  {
   "cell_type": "markdown",
   "id": "03be236b",
   "metadata": {},
   "source": [
    "#### 예시 3: 상품 가격"
   ]
  },
  {
   "cell_type": "code",
   "execution_count": null,
   "id": "e30ae769",
   "metadata": {},
   "outputs": [],
   "source": [
    "menu_prices = {\n",
    "    \"커피\": 4500,\n",
    "    \"차\": 3000,\n",
    "    \"샌드위치\": 8950,\n",
    "    \"샐러드\": 7250,\n",
    "    \"피자\": 12000\n",
    "}"
   ]
  },
  {
   "cell_type": "markdown",
   "id": "7fef2716",
   "metadata": {},
   "source": [
    "### 키 규칙\n",
    "\n",
    "**키는 다음이어야 함:**\n",
    "\n",
    "- **유일**: 중복 키 불허\n",
    "- **불변**: 문자열, 숫자, 또는 튜플 사용"
   ]
  },
  {
   "cell_type": "code",
   "execution_count": null,
   "id": "2cfb43e4",
   "metadata": {},
   "outputs": [],
   "source": [
    "# 좋은 키\n",
    "valid_dict = {\n",
    "    \"name\": \"김철수\",      # 문자열 키\n",
    "    42: \"정답\",           # 숫자 키\n",
    "    (1, 2): \"좌표\"        # 튜플 키\n",
    "}"
   ]
  },
  {
   "cell_type": "markdown",
   "id": "a6bf14b1",
   "metadata": {},
   "source": [
    "**값은 무엇이든 될 수 있음**: 문자열, 숫자, 리스트, 딕셔너리 등"
   ]
  },
  {
   "cell_type": "code",
   "execution_count": null,
   "id": "8928ab65",
   "metadata": {},
   "outputs": [],
   "source": [
    "flexible_dict = {\n",
    "    \"name\": \"김철수\",                    # 문자열 값\n",
    "    \"scores\": [95, 87, 92],            # 리스트 값\n",
    "    \"address\": {                       # 딕셔너리 값\n",
    "        \"street\": \"강남대로 123\",\n",
    "        \"city\": \"서울\"\n",
    "    },\n",
    "    \"graduated\": True                  # 불린 값\n",
    "}"
   ]
  },
  {
   "cell_type": "markdown",
   "id": "f8cc402e",
   "metadata": {},
   "source": [
    "---\n",
    "\n",
    "## 🛠️ 3. 딕셔너리 생성과 접근\n",
    "\n",
    "### 딕셔너리 생성\n",
    "\n",
    "#### 방법 1: 중괄호 사용"
   ]
  },
  {
   "cell_type": "code",
   "execution_count": null,
   "id": "7740e640",
   "metadata": {},
   "outputs": [],
   "source": [
    "# 빈 딕셔너리\n",
    "empty_dict = {}\n",
    "\n",
    "# 초기 데이터가 있는 딕셔너리\n",
    "student_grades = {\n",
    "    \"김철수\": 95,\n",
    "    \"이영희\": 87,\n",
    "    \"박민수\": 92\n",
    "}\n",
    "\n",
    "# 가독성을 위한 여러 줄\n",
    "person = {\n",
    "    \"first_name\": \"철수\",\n",
    "    \"last_name\": \"김\",\n",
    "    \"age\": 25,\n",
    "    \"city\": \"서울\"\n",
    "}"
   ]
  },
  {
   "cell_type": "markdown",
   "id": "bd2707e2",
   "metadata": {},
   "source": [
    "#### 방법 2: dict() 함수 사용"
   ]
  },
  {
   "cell_type": "code",
   "execution_count": null,
   "id": "9363c273",
   "metadata": {},
   "outputs": [],
   "source": [
    "# 키워드 인수로부터\n",
    "colors = dict(red=\"FF0000\", green=\"00FF00\", blue=\"0000FF\")\n",
    "\n",
    "# 튜플 리스트로부터\n",
    "coordinates = dict([(\"x\", 10), (\"y\", 20), (\"z\", 5)])\n",
    "\n",
    "print(colors)      # {'red': 'FF0000', 'green': '00FF00', 'blue': '0000FF'}\n",
    "print(coordinates) # {'x': 10, 'y': 20, 'z': 5}"
   ]
  },
  {
   "cell_type": "markdown",
   "id": "cc6b099b",
   "metadata": {},
   "source": [
    "### 값 접근하기\n",
    "\n",
    "#### 대괄호 사용"
   ]
  },
  {
   "cell_type": "code",
   "execution_count": null,
   "id": "eb4db8a8",
   "metadata": {},
   "outputs": [],
   "source": [
    "student_info = {\n",
    "    \"name\": \"김철수\",\n",
    "    \"age\": 20,\n",
    "    \"major\": \"소프트웨어융합과\"\n",
    "}\n",
    "\n",
    "# 키를 사용해 값 접근\n",
    "name = student_info[\"name\"]        # \"김철수\"\n",
    "age = student_info[\"age\"]          # 20\n",
    "major = student_info[\"major\"]      # \"컴퓨터공학과\"\n",
    "\n",
    "print(f\"학생: {name}, 나이: {age}, 전공: {major}\")"
   ]
  },
  {
   "cell_type": "markdown",
   "id": "5bf12b99",
   "metadata": {},
   "source": [
    "#### get() 메소드 사용\n",
    "\n",
    "`get()` 메소드는 키가 존재하지 않아도 오류가 발생하지 않아 더 안전합니다:"
   ]
  },
  {
   "cell_type": "code",
   "execution_count": null,
   "id": "262bcb21",
   "metadata": {},
   "outputs": [],
   "source": [
    "student_info = {\"name\": \"김철수\", \"age\": 20}\n",
    "\n",
    "# get()으로 안전한 접근\n",
    "name = student_info.get(\"name\")          # \"김철수\"\n",
    "grade = student_info.get(\"grade\")        # None (키가 존재하지 않음)\n",
    "grade = student_info.get(\"grade\", 0)     # 0 (기본값)\n",
    "\n",
    "print(f\"이름: {name}\")\n",
    "print(f\"성적: {grade}\")"
   ]
  },
  {
   "cell_type": "markdown",
   "id": "c73d5a1c",
   "metadata": {},
   "source": [
    "### 딕셔너리 수정\n",
    "\n",
    "#### 새 항목 추가"
   ]
  },
  {
   "cell_type": "code",
   "execution_count": null,
   "id": "4ad786c6",
   "metadata": {},
   "outputs": [],
   "source": [
    "student = {\"name\": \"김철수\", \"age\": 20}\n",
    "\n",
    "# 새로운 키-값 쌍 추가\n",
    "student[\"major\"] = \"생물학과\"\n",
    "student[\"gpa\"] = 3.8\n",
    "\n",
    "print(student)  # {'name': '김철수', 'age': 20, 'major': '생물학과', 'gpa': 3.8}"
   ]
  },
  {
   "cell_type": "markdown",
   "id": "6ee54fa0",
   "metadata": {},
   "source": [
    "#### 기존 항목 업데이트"
   ]
  },
  {
   "cell_type": "code",
   "execution_count": null,
   "id": "27e44d82",
   "metadata": {},
   "outputs": [],
   "source": [
    "prices = {\"coffee\": 3000, \"tea\": 2500}\n",
    "\n",
    "# 기존 값 업데이트\n",
    "prices[\"coffee\"] = 3500    # 가격 인상\n",
    "prices[\"tea\"] = 2750       # 가격 인상\n",
    "\n",
    "print(prices)  # {'coffee': 3500, 'tea': 2750}"
   ]
  },
  {
   "cell_type": "markdown",
   "id": "920f69e5",
   "metadata": {},
   "source": [
    "#### 항목 제거"
   ]
  },
  {
   "cell_type": "code",
   "execution_count": null,
   "id": "045ac5f0",
   "metadata": {},
   "outputs": [],
   "source": [
    "inventory = {\"apples\": 50, \"bananas\": 30, \"oranges\": 25}\n",
    "\n",
    "# del 키워드로 제거\n",
    "del inventory[\"oranges\"]\n",
    "\n",
    "# pop() 메소드로 제거\n",
    "banana_count = inventory.pop(\"bananas\")  # 제거하기 전에 값을 반환\n",
    "\n",
    "print(inventory)      # {'apples': 50}\n",
    "print(banana_count)   # 30"
   ]
  },
  {
   "cell_type": "markdown",
   "id": "f13d363a",
   "metadata": {},
   "source": [
    "---\n",
    "\n",
    "## 📋 4. 딕셔너리 메소드\n",
    "\n",
    "### 필수 딕셔너리 메소드\n",
    "\n",
    "#### keys() 메소드 - 모든 키 가져오기"
   ]
  },
  {
   "cell_type": "code",
   "execution_count": null,
   "id": "390a7a2a",
   "metadata": {},
   "outputs": [],
   "source": [
    "student_grades = {\"김철수\": 95, \"이영희\": 87, \"박민수\": 92}\n",
    "\n",
    "# 모든 키 가져오기\n",
    "all_keys = student_grades.keys()\n",
    "print(all_keys)        # dict_keys(['김철수', '이영희', '박민수'])\n",
    "\n",
    "# 반복문에서 사용\n",
    "print(\"모든 학생:\")\n",
    "for student in student_grades.keys():\n",
    "    print(f\"- {student}\")"
   ]
  },
  {
   "cell_type": "markdown",
   "id": "7f79c9a6",
   "metadata": {},
   "source": [
    "#### values() 메소드 - 모든 값 가져오기"
   ]
  },
  {
   "cell_type": "code",
   "execution_count": null,
   "id": "5759a5e4",
   "metadata": {},
   "outputs": [],
   "source": [
    "student_grades = {\"김철수\": 95, \"이영희\": 87, \"박민수\": 92}\n",
    "\n",
    "# 모든 값 가져오기\n",
    "all_grades = student_grades.values()\n",
    "print(all_grades)      # dict_values([95, 87, 92])\n",
    "\n",
    "# 통계 계산\n",
    "average_grade = sum(student_grades.values()) / len(student_grades)\n",
    "highest_grade = max(student_grades.values())\n",
    "lowest_grade = min(student_grades.values())\n",
    "\n",
    "print(f\"평균 성적: {average_grade:.1f}\")\n",
    "print(f\"최고 성적: {highest_grade}\")\n",
    "print(f\"최저 성적: {lowest_grade}\")"
   ]
  },
  {
   "cell_type": "markdown",
   "id": "2ecd7051",
   "metadata": {},
   "source": [
    "#### items() 메소드 - 키-값 쌍 가져오기"
   ]
  },
  {
   "cell_type": "code",
   "execution_count": null,
   "id": "33978d63",
   "metadata": {},
   "outputs": [],
   "source": [
    "student_grades = {\"김철수\": 95, \"이영희\": 87, \"박민수\": 92}\n",
    "\n",
    "# 반복문에서 사용\n",
    "print(\"성적 보고서:\")\n",
    "for student, grade in student_grades.items():\n",
    "    if grade >= 90:\n",
    "        status = \"우수\"\n",
    "    elif grade >= 80:\n",
    "        status = \"양호\"\n",
    "    else:\n",
    "        status = \"개선 필요\"\n",
    "  \n",
    "    print(f\"{student}: {grade}점 ({status})\")"
   ]
  },
  {
   "cell_type": "markdown",
   "id": "6ba371fd",
   "metadata": {},
   "source": [
    "### 기타 유용한 메소드"
   ]
  },
  {
   "cell_type": "code",
   "execution_count": null,
   "id": "01671b22",
   "metadata": {},
   "outputs": [],
   "source": [
    "inventory = {\"apples\": 50, \"bananas\": 30}\n",
    "\n",
    "# 키 존재 확인\n",
    "if \"apples\" in inventory:\n",
    "    print(\"사과 재고가 있습니다\")\n",
    "\n",
    "# 항목 수 가져오기\n",
    "item_count = len(inventory)\n",
    "print(f\"과일 종류: {item_count}가지\")\n",
    "\n",
    "# 모든 항목 지우기\n",
    "backup = inventory.copy()    # 먼저 백업 생성\n",
    "inventory.clear()\n",
    "print(inventory)             # {}\n",
    "print(backup)                # {'apples': 50, 'bananas': 30}"
   ]
  },
  {
   "cell_type": "markdown",
   "id": "1448ac15",
   "metadata": {},
   "source": [
    "---\n",
    "\n",
    "## 🔧 5. 딕셔너리와 다른 자료구조 조합\n",
    "\n",
    "### 리스트를 포함한 딕셔너리"
   ]
  },
  {
   "cell_type": "code",
   "execution_count": null,
   "id": "9d5f1c66",
   "metadata": {},
   "outputs": [],
   "source": [
    "# 여러 성적을 가진 학생\n",
    "student = {\n",
    "    \"name\": \"김철수\",\n",
    "    \"age\": 20,\n",
    "    \"grades\": [85, 90, 78, 92],\n",
    "    \"subjects\": [\"수학\", \"과학\", \"영어\", \"역사\"]\n",
    "}\n",
    "\n",
    "# 복잡한 데이터 접근\n",
    "name = student[\"name\"]\n",
    "first_grade = student[\"grades\"][0]\n",
    "math_subject = student[\"subjects\"][0]\n",
    "\n",
    "print(f\"학생: {name}\")\n",
    "print(f\"첫 번째 성적: {first_grade}\")\n",
    "print(f\"수학 성적: {first_grade}\")"
   ]
  },
  {
   "cell_type": "markdown",
   "id": "4f6f1635",
   "metadata": {},
   "source": [
    "### 딕셔너리의 리스트"
   ]
  },
  {
   "cell_type": "code",
   "execution_count": null,
   "id": "e08b0e8a",
   "metadata": {},
   "outputs": [],
   "source": [
    "# 여러 학생들\n",
    "students = [\n",
    "    {\"name\": \"김철수\", \"age\": 20, \"grade\": 85},\n",
    "    {\"name\": \"이영희\", \"age\": 19, \"grade\": 92},\n",
    "    {\"name\": \"박민수\", \"age\": 21, \"grade\": 78}\n",
    "]\n",
    "\n",
    "# 높은 성적의 학생 찾기\n",
    "print(\"우수 학생 (성적 >= 85):\")\n",
    "for student in students:\n",
    "    if student[\"grade\"] >= 85:\n",
    "        print(f\"- {student['name']}: {student['grade']}점\")\n",
    "\n",
    "# 평균 성적 계산\n",
    "total = sum(student[\"grade\"] for student in students)\n",
    "average = total / len(students)\n",
    "print(f\"학급 평균: {average:.1f}점\")"
   ]
  },
  {
   "cell_type": "markdown",
   "id": "6fffbf22",
   "metadata": {},
   "source": [
    "---\n",
    "\n",
    "## 🔸 6. 세트(Set) 자료형\n",
    "\n",
    "### 세트란?\n",
    "\n",
    "**세트(Set)**는 **중복이 없는** **고유한** 항목들의 모음입니다. **고유한 구슬들의 가방**처럼 생각해보세요.\n",
    "\n",
    "### 세트 생성"
   ]
  },
  {
   "cell_type": "code",
   "execution_count": null,
   "id": "c79d8cac",
   "metadata": {},
   "outputs": [],
   "source": [
    "# 방법 1: 중괄호 사용\n",
    "fruits = {\"사과\", \"바나나\", \"오렌지\", \"사과\"}  # 중복 제거됨\n",
    "print(fruits)  # {'오렌지', '바나나', '사과'}\n",
    "\n",
    "# 방법 2: 리스트로부터\n",
    "numbers = set([1, 2, 3, 2, 1, 4])\n",
    "print(numbers)  # {1, 2, 3, 4}\n",
    "\n",
    "# 멤버십 확인\n",
    "print(\"사과\" in fruits)  # True\n",
    "print(\"포도\" in fruits)  # False"
   ]
  },
  {
   "cell_type": "markdown",
   "id": "2336551e",
   "metadata": {},
   "source": [
    "### 중복 제거"
   ]
  },
  {
   "cell_type": "code",
   "execution_count": null,
   "id": "4e4555b6",
   "metadata": {},
   "outputs": [],
   "source": [
    "# 리스트에서 중복 제거\n",
    "numbers_with_duplicates = [1, 2, 2, 3, 3, 4]\n",
    "unique_numbers = list(set(numbers_with_duplicates))\n",
    "print(f\"원본: {numbers_with_duplicates}\")\n",
    "print(f\"중복 제거: {unique_numbers}\")\n",
    "\n",
    "# 고유 항목 계산\n",
    "text = \"안녕하세요 안녕하세요\"\n",
    "words = text.split()\n",
    "unique_words = set(words)\n",
    "print(f\"고유 단어: {unique_words}\")\n",
    "print(f\"고유 단어 수: {len(unique_words)}\")"
   ]
  },
  {
   "cell_type": "markdown",
   "id": "4a5509de",
   "metadata": {},
   "source": [
    "### 기본 세트 연산"
   ]
  },
  {
   "cell_type": "code",
   "execution_count": null,
   "id": "f45fc54e",
   "metadata": {},
   "outputs": [],
   "source": [
    "# 서로 다른 반의 학생들\n",
    "math_students = {\"김철수\", \"이영희\", \"박민수\"}\n",
    "science_students = {\"이영희\", \"박민수\", \"최지은\"}\n",
    "\n",
    "# 두 반 모두 수강하는 학생\n",
    "both_classes = math_students & science_students\n",
    "print(f\"두 반 모두 수강: {both_classes}\")\n",
    "\n",
    "# 전체 학생\n",
    "all_students = math_students | science_students\n",
    "print(f\"전체 학생: {all_students}\")\n",
    "\n",
    "# 수학반만 수강하는 학생\n",
    "only_math = math_students - science_students\n",
    "print(f\"수학반만 수강: {only_math}\")"
   ]
  },
  {
   "cell_type": "markdown",
   "id": "3de2e84f",
   "metadata": {},
   "source": [
    "---\n",
    "\n",
    "## ⚖️ 7. 데이터 구조 선택 가이드\n",
    "\n",
    "### 언제 무엇을 사용할까?\n",
    "\n",
    "| 자료구조                       | 사용하는 경우                  | 예시                 |\n",
    "| ------------------------------ | ------------------------------ | -------------------- |\n",
    "| **리스트(List)**         | 순서가 필요하고 변경 가능할 때 | 쇼핑 카트 항목       |\n",
    "| **튜플(Tuple)**          | 고정 데이터, 좌표              | (x, y) 위치          |\n",
    "| **딕셔너리(Dictionary)** | 키-값 검색이 필요할 때         | 학생 ID → 이름      |\n",
    "| **세트(Set)**            | 고유 항목만 필요할 때          | 사용자 ID, 고유 태그 |\n",
    "\n",
    "### 간단한 결정 가이드"
   ]
  },
  {
   "cell_type": "code",
   "execution_count": null,
   "id": "bf7d5a7c",
   "metadata": {},
   "outputs": [],
   "source": [
    "# 예시: 학생 관리\n",
    "\n",
    "# 성적은 리스트 사용 (순서 있고 변경 가능)\n",
    "grades = [85, 90, 78]\n",
    "\n",
    "# 생년월일은 튜플 사용 (고정 정보)\n",
    "birth_info = (2003, 5, 15)  # 년, 월, 일\n",
    "\n",
    "# 학생 정보는 딕셔너리 사용 (검색용)\n",
    "student_info = {\"name\": \"김철수\", \"id\": \"S001\"}\n",
    "\n",
    "# 수강 과목은 세트 사용 (고유 과목)\n",
    "subjects = {\"수학\", \"과학\", \"영어\"}\n",
    "\n",
    "print(f\"성적: {grades}\")\n",
    "print(f\"출생년도: {birth_info[0]}\")\n",
    "print(f\"학생: {student_info['name']}\")\n",
    "print(f\"과목: {subjects}\")"
   ]
  },
  {
   "cell_type": "markdown",
   "id": "87b376cb",
   "metadata": {},
   "source": [
    "---\n",
    "\n",
    "## 🔧 실습 문제\n",
    "\n",
    "### 실습 1: 전화번호부 프로그램\n",
    "\n",
    "**문제**: 이름과 전화번호를 저장하는 간단한 전화번호부를 만드세요. 연락처 추가, 검색, 모든 연락처 표시 기능을 포함하세요.\n",
    "\n",
    "**정답**:"
   ]
  },
  {
   "cell_type": "code",
   "execution_count": null,
   "id": "db21c5a7",
   "metadata": {},
   "outputs": [],
   "source": [
    "# 전화번호부 딕셔너리 생성\n",
    "phone_book = {\n",
    "    \"김철수\": \"010-1234-5678\",\n",
    "    \"이영희\": \"010-2345-6789\",\n",
    "    \"박민수\": \"010-3456-7890\"\n",
    "}\n",
    "\n",
    "print(\"전화번호부 프로그램\")\n",
    "print(f\"총 연락처 수: {len(phone_book)}개\")\n",
    "\n",
    "# 모든 연락처 표시\n",
    "print(\"\\n모든 연락처:\")\n",
    "for name, phone in phone_book.items():\n",
    "    print(f\"{name}: {phone}\")\n",
    "\n",
    "# 새 연락처 추가\n",
    "phone_book[\"최지은\"] = \"010-4567-8901\"\n",
    "print(f\"\\n최지은을 전화번호부에 추가했습니다\")\n",
    "\n",
    "# 특정 연락처 검색\n",
    "search_name = \"이영희\"\n",
    "if search_name in phone_book:\n",
    "    print(f\"{search_name} 발견: {phone_book[search_name]}\")\n",
    "else:\n",
    "    print(f\"{search_name}을 찾을 수 없습니다\")\n",
    "\n",
    "# get() 메소드를 사용한 검색\n",
    "search_name2 = \"홍길동\"\n",
    "result = phone_book.get(search_name2, \"찾을 수 없음\")\n",
    "print(f\"{search_name2} 검색 결과: {result}\")\n",
    "\n",
    "# 업데이트된 연락처 목록 표시\n",
    "print(f\"\\n업데이트된 전화번호부 ({len(phone_book)}개 연락처):\")\n",
    "for name, phone in phone_book.items():\n",
    "    print(f\"{name}: {phone}\")"
   ]
  },
  {
   "cell_type": "markdown",
   "id": "e4bd6dc9",
   "metadata": {},
   "source": [
    "### 실습 2: 학생 데이터베이스 시스템\n",
    "\n",
    "**문제**: 딕셔너리의 리스트를 사용하여 학생 데이터베이스를 만드세요. 학생 정보를 저장하고 기본 연산을 수행하세요.\n",
    "\n",
    "**정답**:"
   ]
  },
  {
   "cell_type": "code",
   "execution_count": null,
   "id": "3fd82218",
   "metadata": {},
   "outputs": [],
   "source": [
    "# 학생 데이터베이스\n",
    "students = [\n",
    "    {\"name\": \"김철수\", \"age\": 20, \"grade\": 85, \"major\": \"소프트웨어융합과\"},\n",
    "    {\"name\": \"이영희\", \"age\": 19, \"grade\": 92, \"major\": \"생물학과\"},\n",
    "    {\"name\": \"박민수\", \"age\": 20, \"grade\": 78, \"major\": \"미술학과\"},\n",
    "    {\"name\": \"최지은\", \"age\": 21, \"grade\": 88, \"major\": \"수학과\"}\n",
    "]\n",
    "\n",
    "print(\"학생 데이터베이스 시스템\")\n",
    "\n",
    "# 모든 학생 표시\n",
    "print(\"\\n모든 학생:\")\n",
    "for student in students:\n",
    "    print(f\"이름: {student['name']}, 나이: {student['age']}, 성적: {student['grade']}\")\n",
    "\n",
    "# 20세 학생 찾기\n",
    "print(\"\\n20세 학생:\")\n",
    "for student in students:\n",
    "    if student[\"age\"] == 20:\n",
    "        print(f\"- {student['name']} (성적: {student['grade']})\")\n",
    "\n",
    "# 학급 통계 계산\n",
    "total_grade = sum(student[\"grade\"] for student in students)\n",
    "average_grade = total_grade / len(students)\n",
    "highest_grade = max(student[\"grade\"] for student in students)\n",
    "lowest_grade = min(student[\"grade\"] for student in students)\n",
    "\n",
    "print(f\"\\n학급 통계:\")\n",
    "print(f\"평균 성적: {average_grade:.1f}\")\n",
    "print(f\"최고 성적: {highest_grade}\")\n",
    "print(f\"최저 성적: {lowest_grade}\")\n",
    "\n",
    "# 전공별 학생 찾기\n",
    "target_major = \"소프트웨어융합과\"\n",
    "print(f\"\\n{target_major} 학생:\")\n",
    "for student in students:\n",
    "    if student[\"major\"] == target_major:\n",
    "        print(f\"- {student['name']}\")"
   ]
  },
  {
   "cell_type": "markdown",
   "id": "478a156c",
   "metadata": {},
   "source": [
    "### 실습 3: 고유 항목 관리자\n",
    "\n",
    "**문제**: 세트를 사용하여 고유한 데이터 컬렉션을 관리하세요. 중복을 제거하고 세트 연산을 수행하세요.\n",
    "\n",
    "**정답**:"
   ]
  },
  {
   "cell_type": "code",
   "execution_count": null,
   "id": "2e9ebdbd",
   "metadata": {},
   "outputs": [],
   "source": [
    "# 수강 신청 데이터\n",
    "course_a_students = [\"김철수\", \"이영희\", \"박민수\", \"최지은\", \"김철수\", \"이영희\"]\n",
    "course_b_students = [\"이영희\", \"박민수\", \"정민호\", \"김영수\", \"박민수\"]\n",
    "\n",
    "print(\"고유 항목 관리자\")\n",
    "\n",
    "# 세트를 사용해 중복 제거\n",
    "unique_course_a = set(course_a_students)\n",
    "unique_course_b = set(course_b_students)\n",
    "\n",
    "print(\"수강 신청 (중복 제거):\")\n",
    "print(f\"A과목: {unique_course_a}\")\n",
    "print(f\"B과목: {unique_course_b}\")\n",
    "\n",
    "# 두 과목 모두 수강하는 학생\n",
    "both_courses = unique_course_a & unique_course_b\n",
    "print(f\"\\n두 과목 모두 수강: {both_courses}\")\n",
    "\n",
    "# 전체 학생\n",
    "all_students = unique_course_a | unique_course_b\n",
    "print(f\"전체 학생: {all_students}\")\n",
    "\n",
    "# A과목만 수강하는 학생\n",
    "only_course_a = unique_course_a - unique_course_b\n",
    "print(f\"A과목만 수강: {only_course_a}\")\n",
    "\n",
    "# B과목만 수강하는 학생\n",
    "only_course_b = unique_course_b - unique_course_a\n",
    "print(f\"B과목만 수강: {only_course_b}\")\n",
    "\n",
    "# 통계\n",
    "print(f\"\\n통계:\")\n",
    "print(f\"총 고유 학생 수: {len(all_students)}명\")\n",
    "print(f\"A과목 수강생: {len(unique_course_a)}명\")\n",
    "print(f\"B과목 수강생: {len(unique_course_b)}명\")\n",
    "print(f\"두 과목 모두 수강: {len(both_courses)}명\")"
   ]
  },
  {
   "cell_type": "markdown",
   "id": "cc3d5311",
   "metadata": {},
   "source": [
    "---\n",
    "\n",
    "## 📝 퀴즈\n",
    "\n",
    "### 퀴즈 1: 딕셔너리 생성과 접근\n",
    "\n",
    "**문제**: `student_record`라는 딕셔너리를 만들어 학생의 이름, 나이, 전공, 학점을 저장하세요. 그 후 다음을 수행하는 코드를 작성하세요:\n",
    "\n",
    "1. 샘플 데이터로 딕셔너리 생성\n",
    "2. 학생 이름과 전공 접근 및 출력\n",
    "3. 학생 학점을 새 값으로 업데이트\n",
    "4. 새 키 \"graduation_year\"를 값과 함께 추가\n",
    "\n",
    "**답을 여기에 작성하세요**:"
   ]
  },
  {
   "cell_type": "code",
   "execution_count": null,
   "id": "64647c48",
   "metadata": {},
   "outputs": [],
   "source": [
    "# 여기에 코드를 작성하세요"
   ]
  },
  {
   "cell_type": "markdown",
   "id": "886b7138",
   "metadata": {},
   "source": [
    "### 퀴즈 2: 세트 연산과 중복 제거\n",
    "\n",
    "**문제**: 리스트 `[1, 2, 2, 3, 3, 3, 4]`가 주어졌을 때, 다음을 수행하는 코드를 작성하세요:\n",
    "\n",
    "1. 세트를 사용해 중복을 제거하고 결과 출력\n",
    "2. 두 세트 생성: `even_numbers = {2, 4, 6, 8}`과 위 리스트에서 만든 세트\n",
    "3. 두 세트에 모두 나타나는 숫자 찾기\n",
    "4. even_numbers 세트에만 있는 숫자 찾기\n",
    "\n",
    "**답을 여기에 작성하세요**:"
   ]
  },
  {
   "cell_type": "code",
   "execution_count": null,
   "id": "8da29c15",
   "metadata": {},
   "outputs": [],
   "source": [
    "numbers_list = [1, 2, 2, 3, 3, 3, 4]\n",
    "\n",
    "# 여기에 코드를 작성하세요"
   ]
  },
  {
   "cell_type": "markdown",
   "id": "0a6b22dc",
   "metadata": {},
   "source": [
    "### 퀴즈 3: 학생 데이터 분석\n",
    "\n",
    "**문제**: 학생 딕셔너리의 리스트가 있습니다. 데이터를 분석하는 코드를 작성하세요."
   ]
  },
  {
   "cell_type": "code",
   "execution_count": null,
   "id": "c6d3f0b8",
   "metadata": {},
   "outputs": [],
   "source": [
    "students = [\n",
    "    {\"name\": \"김철수\", \"age\": 19, \"grade\": 85},\n",
    "    {\"name\": \"이영희\", \"age\": 20, \"grade\": 92},\n",
    "    {\"name\": \"박민수\", \"age\": 20, \"grade\": 78},\n",
    "    {\"name\": \"최지은\", \"age\": 19, \"grade\": 88}\n",
    "]"
   ]
  },
  {
   "cell_type": "markdown",
   "id": "5f390e86",
   "metadata": {},
   "source": [
    "다음을 수행하는 코드를 작성하세요:\n",
    "\n",
    "1. 20세인 모든 학생 찾기\n",
    "2. 모든 학생의 평균 성적 계산\n",
    "3. 가장 높은 성적을 받은 학생 찾기\n",
    "4. 19세인 학생 수 계산\n",
    "\n",
    "**답을 여기에 작성하세요**:"
   ]
  },
  {
   "cell_type": "code",
   "execution_count": null,
   "id": "8eaffc71",
   "metadata": {},
   "outputs": [],
   "source": [
    "students = [\n",
    "    {\"name\": \"김철수\", \"age\": 19, \"grade\": 85},\n",
    "    {\"name\": \"이영희\", \"age\": 20, \"grade\": 92},\n",
    "    {\"name\": \"박민수\", \"age\": 20, \"grade\": 78},\n",
    "    {\"name\": \"최지은\", \"age\": 19, \"grade\": 88}\n",
    "]\n",
    "\n",
    "# 여기에 코드를 작성하세요"
   ]
  },
  {
   "cell_type": "markdown",
   "id": "8854dc3a",
   "metadata": {},
   "source": [
    "---\n",
    "\n",
    "## 📖 참고 자료\n",
    "\n",
    "1. **Python 딕셔너리 문서**: https://docs.python.org/3/tutorial/datastructures.html#dictionaries\n",
    "\n",
    "   - 딕셔너리에 대한 공식 Python 문서\n",
    "2. **Real Python - 파이썬 딕셔너리**: https://realpython.com/python-dicts/\n",
    "\n",
    "   - 실용적 예시가 포함된 종합 가이드\n",
    "3. **W3Schools 파이썬 딕셔너리**: https://www.w3schools.com/python/python_dictionaries.asp\n",
    "\n",
    "   - 대화형 튜토리얼과 연습 문제\n",
    "4. **파이썬 세트 가이드**: https://realpython.com/python-sets/\n",
    "\n",
    "   - Python 세트에 대한 종합 튜토리얼\n",
    "\n",
    "---\n",
    "\n",
    "## 💡 핵심 포인트\n",
    "\n",
    "### 기억하세요\n",
    "\n",
    "1. **딕셔너리는 키-값 쌍으로 데이터 저장** - 빠른 검색과 의미 있는 라벨\n",
    "2. **키는 고유하고 불변이어야 함** - 문자열, 숫자, 튜플만 가능\n",
    "3. **get() 메소드 사용** - 안전한 값 접근을 위해\n",
    "4. **세트는 고유 항목만 저장** - 중복 제거에 완벽\n",
    "5. **적절한 자료구조 선택** - 용도에 맞는 구조 사용\n",
    "\n",
    "### 모범 사례\n",
    "\n",
    "- **의미 있는 키 이름 사용**: 데이터를 명확히 설명하는 키 선택\n",
    "- **키 존재 확인**: 오류 방지를 위해 항상 `in` 연산자나 `get()` 메소드 사용\n",
    "- **단순하게 유지**: 필요하지 않다면 딕셔너리를 너무 깊게 중첩하지 말 것\n",
    "\n",
    "### 실제 활용 사례\n",
    "\n",
    "- **설정 관리**: 앱 설정과 환경설정 저장\n",
    "- **데이터 캐싱**: 빠른 검색을 위한 자주 접근하는 데이터 저장\n",
    "- **항목 카운팅**: 다양한 항목의 발생 횟수 계산\n",
    "- **사용자 관리**: 사용자 ID와 정보 매핑\n",
    "\n",
    "### 주의사항\n",
    "\n",
    "1. **리스트를 키로 사용 금지** - 키는 불변이어야 함을 기억\n",
    "2. **키 존재 가정 금지** - KeyError 방지를 위해 접근 전 항상 확인\n",
    "3. **반복 중 수정 주의** - 딕셔너리를 순회하면서 크기 변경하지 말 것\n",
    "\n",
    "---\n",
    "\n",
    "## 📋 숙제\n",
    "\n",
    "1. **연습**: 모든 실습 문제를 완료하고 자신만의 데이터로 변형 시도\n",
    "2. **응용**: 좋아하는 영화 정보를 저장하는 딕셔너리 만들기 (제목, 연도, 감독, 평점 포함)\n",
    "3. **심화**: 여러 학생의 여러 과목을 저장할 수 있는 성적부 시스템 구축\n",
    "4. **프로젝트**: 간단한 도서관 관리 시스템을 딕셔너리와 리스트 조합으로 만들기\n",
    "\n",
    "**딕셔너리와 데이터 구조 학습 수고하셨습니다!**"
   ]
  }
 ],
 "metadata": {
  "jupytext": {
   "cell_metadata_filter": "-all",
   "main_language": "python",
   "notebook_metadata_filter": "-all"
  },
  "language_info": {
   "name": "python"
  }
 },
 "nbformat": 4,
 "nbformat_minor": 5
}
