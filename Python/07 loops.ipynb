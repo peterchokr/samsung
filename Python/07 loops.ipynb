{
 "cells": [
  {
   "cell_type": "markdown",
   "id": "e8080128",
   "metadata": {
    "lines_to_next_cell": 0
   },
   "source": [
    "# 반복문 (Loops) - for문과 while문\n",
    "\n",
    "**수업 시간**: 3시간  \n",
    "**구성**: 강의 및 실습 2시간 + 퀴즈 1시간  \n",
    "**수준**: 초급  \n",
    "**선수 학습**: 변수, 데이터 타입, 연산자, 입출력, 조건문\n",
    "\n",
    "---\n",
    "\n",
    "## 🎯 학습 목표\n",
    "\n",
    "이 수업을 마친 후 학생들은 다음을 할 수 있습니다:\n",
    "\n",
    "- 반복문의 개념과 목적 이해하기\n",
    "- range() 함수를 사용한 기본 for문 작성하기\n",
    "- 문자열과 다른 시퀀스에서 for문 사용하기\n",
    "- while문의 개념과 구조 이해하기\n",
    "- break와 continue 문을 효과적으로 사용하기\n",
    "- for문과 while문을 적절히 선택하여 사용하기\n",
    "\n",
    "---\n",
    "\n",
    "## 🔄 1. 반복문이란 무엇인가?\n",
    "\n",
    "**반복문(Loops)**은 같은 코드를 여러 번 작성하지 않고도 코드를 여러 번 반복할 수 있게 해줍니다.\n",
    "\n",
    "### 실생활 비유\n",
    "반복문을 일상 루틴과 같다고 생각해보세요:\n",
    "\n",
    "```\n",
    "일상 루틴:\n",
    "매일 아침마다:\n",
    "    - 7시에 일어나기\n",
    "    - 양치하기\n",
    "    - 아침 먹기\n",
    "    - 학교 가기\n",
    "\n",
    "파이썬 반복문:\n",
    "for day in range(7):\n",
    "    print(\"7시에 일어나기\")\n",
    "    print(\"양치하기\")\n",
    "    print(\"아침 먹기\")\n",
    "    print(\"학교 가기\")\n",
    "```\n",
    "\n",
    "### 반복문을 사용하는 이유\n",
    "- **반복 방지**: 같은 코드를 여러 번 작성하지 않음\n",
    "- **시간 절약**: 적은 코드로 더 많은 작업\n",
    "- **대용량 데이터 처리**: 많은 항목을 효율적으로 처리\n",
    "- **패턴 생성**: 반복 패턴을 쉽게 생성\n",
    "\n",
    "---\n",
    "\n",
    "## 🔢 2. for문 (for Loop)\n",
    "\n",
    "### 기본 문법"
   ]
  },
  {
   "cell_type": "code",
   "execution_count": null,
   "id": "d8960c5f",
   "metadata": {},
   "outputs": [],
   "source": [
    "for 변수 in 시퀀스:\n",
    "    # 반복할 코드\n",
    "    명령문1\n",
    "    명령문2"
   ]
  },
  {
   "cell_type": "markdown",
   "id": "f5739685",
   "metadata": {
    "lines_to_next_cell": 0
   },
   "source": [
    "### 주요 구성 요소\n",
    "- **for 키워드**: 반복문 시작\n",
    "- **변수**: 시퀀스의 각 항목 저장\n",
    "- **in 키워드**: 변수와 시퀀스 연결\n",
    "- **시퀀스**: 반복할 항목들의 모음\n",
    "- **콜론(:)**: for문의 끝을 표시\n",
    "- **들여쓰기**: 반복문 내부 코드 표시\n",
    "\n",
    "### 간단한 예시\n",
    "\n",
    "#### 예시 1: 숫자 반복"
   ]
  },
  {
   "cell_type": "code",
   "execution_count": null,
   "id": "4bf0a6bf",
   "metadata": {},
   "outputs": [],
   "source": [
    "# 반복문 없이 (비효율적)\n",
    "print(\"카운트: 1\")\n",
    "print(\"카운트: 2\") \n",
    "print(\"카운트: 3\")\n",
    "\n",
    "# 반복문 사용 (효율적)\n",
    "for number in [1, 2, 3]:\n",
    "    print(f\"카운트: {number}\")"
   ]
  },
  {
   "cell_type": "markdown",
   "id": "685276f5",
   "metadata": {
    "lines_to_next_cell": 0
   },
   "source": [
    "#### 예시 2: 문자 반복"
   ]
  },
  {
   "cell_type": "code",
   "execution_count": null,
   "id": "8b2223d9",
   "metadata": {},
   "outputs": [],
   "source": [
    "# 각 문자 출력\n",
    "for letter in [\"A\", \"B\", \"C\"]:\n",
    "    print(f\"문자: {letter}\")\n",
    "\n",
    "# 출력:\n",
    "# 문자: A\n",
    "# 문자: B\n",
    "# 문자: C"
   ]
  },
  {
   "cell_type": "markdown",
   "id": "3cbe063c",
   "metadata": {
    "lines_to_next_cell": 0
   },
   "source": [
    "---\n",
    "\n",
    "## 📊 3. range() 함수\n",
    "\n",
    "**range()** 함수는 숫자 시퀀스를 생성하며, 반복문에 매우 유용합니다.\n",
    "\n",
    "### range() 사용 3가지 방법\n",
    "\n",
    "#### 1. range(stop) - 0부터 stop-1까지"
   ]
  },
  {
   "cell_type": "code",
   "execution_count": null,
   "id": "70a18405",
   "metadata": {},
   "outputs": [],
   "source": [
    "# range(5)는 0, 1, 2, 3, 4를 생성\n",
    "for i in range(5):\n",
    "    print(f\"숫자: {i}\")\n",
    "\n",
    "# 출력:\n",
    "# 숫자: 0\n",
    "# 숫자: 1\n",
    "# 숫자: 2\n",
    "# 숫자: 3\n",
    "# 숫자: 4"
   ]
  },
  {
   "cell_type": "markdown",
   "id": "0ee115ac",
   "metadata": {
    "lines_to_next_cell": 0
   },
   "source": [
    "#### 2. range(start, stop) - start부터 stop-1까지"
   ]
  },
  {
   "cell_type": "code",
   "execution_count": null,
   "id": "845bc8ee",
   "metadata": {},
   "outputs": [],
   "source": [
    "# range(1, 6)은 1, 2, 3, 4, 5를 생성\n",
    "for i in range(1, 6):\n",
    "    print(f\"숫자: {i}\")\n",
    "\n",
    "# 출력:\n",
    "# 숫자: 1\n",
    "# 숫자: 2\n",
    "# 숫자: 3\n",
    "# 숫자: 4\n",
    "# 숫자: 5"
   ]
  },
  {
   "cell_type": "markdown",
   "id": "37af2ec9",
   "metadata": {
    "lines_to_next_cell": 0
   },
   "source": [
    "#### 3. range(start, stop, step) - 사용자 정의 단계"
   ]
  },
  {
   "cell_type": "code",
   "execution_count": null,
   "id": "fc9f4ece",
   "metadata": {},
   "outputs": [],
   "source": [
    "# range(2, 11, 2)는 2, 4, 6, 8, 10을 생성\n",
    "for i in range(2, 11, 2):\n",
    "    print(f\"짝수: {i}\")\n",
    "\n",
    "# 출력:\n",
    "# 짝수: 2\n",
    "# 짝수: 4\n",
    "# 짝수: 6\n",
    "# 짝수: 8\n",
    "# 짝수: 10"
   ]
  },
  {
   "cell_type": "markdown",
   "id": "13eec2a3",
   "metadata": {
    "lines_to_next_cell": 0
   },
   "source": [
    "### 실용적인 range() 예시\n",
    "\n",
    "#### 구구단 만들기"
   ]
  },
  {
   "cell_type": "code",
   "execution_count": null,
   "id": "6b182c05",
   "metadata": {},
   "outputs": [],
   "source": [
    "number = 3\n",
    "print(f\"{number}단:\")\n",
    "for i in range(1, 10):\n",
    "    result = number * i\n",
    "    print(f\"{number} x {i} = {result}\")"
   ]
  },
  {
   "cell_type": "markdown",
   "id": "29c78566",
   "metadata": {
    "lines_to_next_cell": 0
   },
   "source": [
    "---\n",
    "\n",
    "## 🔤 4. 문자열과 for문\n",
    "\n",
    "문자열의 각 문자를 직접 반복할 수 있습니다.\n",
    "\n",
    "#### 예시 1: 각 문자 출력"
   ]
  },
  {
   "cell_type": "code",
   "execution_count": null,
   "id": "d2c2715e",
   "metadata": {},
   "outputs": [],
   "source": [
    "word = \"파이썬\"\n",
    "for letter in word:\n",
    "    print(f\"문자: {letter}\")\n",
    "\n",
    "# 출력:\n",
    "# 문자: 파\n",
    "# 문자: 이\n",
    "# 문자: 썬"
   ]
  },
  {
   "cell_type": "markdown",
   "id": "f8996ff2",
   "metadata": {
    "lines_to_next_cell": 0
   },
   "source": [
    "#### 예시 2: 모음 세기"
   ]
  },
  {
   "cell_type": "code",
   "execution_count": null,
   "id": "0e0c1ac9",
   "metadata": {},
   "outputs": [],
   "source": [
    "text = \"Hello World\"\n",
    "vowels = \"aeiouAEIOU\"\n",
    "vowel_count = 0\n",
    "\n",
    "for letter in text:\n",
    "    if letter in vowels:\n",
    "        vowel_count += 1\n",
    "        print(f\"모음 발견: {letter}\")\n",
    "\n",
    "print(f\"총 모음 개수: {vowel_count}\")"
   ]
  },
  {
   "cell_type": "markdown",
   "id": "e28b0821",
   "metadata": {
    "lines_to_next_cell": 0
   },
   "source": [
    "---\n",
    "\n",
    "## ⚡ 5. while문 (while Loop)\n",
    "\n",
    "**while문**은 조건이 True인 동안 코드를 반복합니다. for문과 달리, while문은 조건이 False가 될 때까지 계속됩니다.\n",
    "\n",
    "### 기본 문법"
   ]
  },
  {
   "cell_type": "code",
   "execution_count": null,
   "id": "f5560fc6",
   "metadata": {},
   "outputs": [],
   "source": [
    "while 조건:\n",
    "    # 반복할 코드\n",
    "    명령문1\n",
    "    명령문2\n",
    "    # 조건을 변경하는 코드 (중요!)"
   ]
  },
  {
   "cell_type": "markdown",
   "id": "3117a9f3",
   "metadata": {
    "lines_to_next_cell": 0
   },
   "source": [
    "### 주요 구성 요소\n",
    "- **while 키워드**: 반복문 시작\n",
    "- **조건**: True/False로 평가되는 표현식\n",
    "- **콜론(:)**: while문의 끝을 표시\n",
    "- **들여쓰기**: 반복문 내부 코드 표시\n",
    "- **조건 업데이트**: 반복문 내부에서 조건을 변경해야 함 (매우 중요!)\n",
    "\n",
    "### 간단한 예시\n",
    "\n",
    "#### 예시 1: while로 세기"
   ]
  },
  {
   "cell_type": "code",
   "execution_count": null,
   "id": "6f7c6689",
   "metadata": {},
   "outputs": [],
   "source": [
    "# 1부터 5까지 세기\n",
    "count = 1\n",
    "while count <= 5:\n",
    "    print(f\"카운트: {count}\")\n",
    "    count += 1  # 조건을 변경하는 부분!\n",
    "\n",
    "print(\"카운트 완료!\")\n",
    "\n",
    "# 출력:\n",
    "# 카운트: 1\n",
    "# 카운트: 2\n",
    "# 카운트: 3\n",
    "# 카운트: 4\n",
    "# 카운트: 5\n",
    "# 카운트 완료!"
   ]
  },
  {
   "cell_type": "markdown",
   "id": "9b028d6d",
   "metadata": {
    "lines_to_next_cell": 0
   },
   "source": [
    "#### 예시 2: 사용자 입력 검증"
   ]
  },
  {
   "cell_type": "code",
   "execution_count": null,
   "id": "70c924f8",
   "metadata": {},
   "outputs": [],
   "source": [
    "# 양수를 입력할 때까지 계속 요청\n",
    "number = -1\n",
    "while number <= 0:\n",
    "    number = int(input(\"양수를 입력하세요: \"))\n",
    "    if number <= 0:\n",
    "        print(\"양수가 아닙니다! 다시 시도하세요.\")\n",
    "\n",
    "print(f\"입력하신 숫자: {number}\")"
   ]
  },
  {
   "cell_type": "markdown",
   "id": "10f549d8",
   "metadata": {
    "lines_to_next_cell": 0
   },
   "source": [
    "---\n",
    "\n",
    "## 🛑 6. break와 continue문\n",
    "\n",
    "### break문\n",
    "**break**문은 반복문을 즉시 종료합니다.\n",
    "\n",
    "#### 예시: 메뉴 시스템"
   ]
  },
  {
   "cell_type": "code",
   "execution_count": null,
   "id": "337c9460",
   "metadata": {},
   "outputs": [],
   "source": [
    "# 식당 주문 시스템\n",
    "while True:  # 의도적인 무한 반복\n",
    "    print(\"\\n=== 식당 메뉴 ===\")\n",
    "    print(\"1. 피자 - 12,000원\")\n",
    "    print(\"2. 햄버거 - 8,000원\") \n",
    "    print(\"3. 샐러드 - 6,000원\")\n",
    "    print(\"4. 종료\")\n",
    "    \n",
    "    choice = input(\"선택하세요 (1-4): \")\n",
    "    \n",
    "    if choice == \"1\":\n",
    "        print(\"피자를 주문하셨습니다!\")\n",
    "    elif choice == \"2\":\n",
    "        print(\"햄버거를 주문하셨습니다!\")\n",
    "    elif choice == \"3\":\n",
    "        print(\"샐러드를 주문하셨습니다!\")\n",
    "    elif choice == \"4\":\n",
    "        print(\"방문해 주셔서 감사합니다!\")\n",
    "        break  # 반복문 종료\n",
    "    else:\n",
    "        print(\"잘못된 선택입니다! 다시 시도하세요.\")\n",
    "\n",
    "print(\"프로그램 종료\")"
   ]
  },
  {
   "cell_type": "markdown",
   "id": "f66c0f57",
   "metadata": {
    "lines_to_next_cell": 0
   },
   "source": [
    "### continue문\n",
    "**continue**문은 현재 반복의 나머지 부분을 건너뛰고 다음 반복으로 이동합니다.\n",
    "\n",
    "#### 예시: 홀수만 출력"
   ]
  },
  {
   "cell_type": "code",
   "execution_count": null,
   "id": "6769ade1",
   "metadata": {},
   "outputs": [],
   "source": [
    "# 1부터 10까지 중 홀수만 출력\n",
    "number = 0\n",
    "while number < 10:\n",
    "    number += 1\n",
    "    if number % 2 == 0:  # 짝수인 경우\n",
    "        continue  # 다음 반복으로 건너뛰기\n",
    "    print(f\"홀수: {number}\")\n",
    "\n",
    "# 출력: 1, 3, 5, 7, 9"
   ]
  },
  {
   "cell_type": "markdown",
   "id": "a344cceb",
   "metadata": {},
   "source": [
    "---\n",
    "\n",
    "## 🤔 7. for문 vs while문: 언제 사용할까?\n",
    "\n",
    "### for문을 사용할 때\n",
    "- **반복 횟수를 알 때**: 몇 번 반복할지 미리 알 때\n",
    "- **시퀀스 처리**: 리스트, 문자열, 범위로 작업할 때\n",
    "- **패턴 생성**: 특정 횟수로 패턴 생성할 때"
   ]
  },
  {
   "cell_type": "code",
   "execution_count": null,
   "id": "2420d0f0",
   "metadata": {},
   "outputs": [],
   "source": [
    "# for문이 좋은 예시\n",
    "for i in range(10):           # 10번 반복\n",
    "    print(f\"숫자 {i}\")\n",
    "\n",
    "for letter in \"안녕하세요\":      # 각 문자 처리\n",
    "    print(letter)\n",
    "\n",
    "for item in [1, 2, 3, 4, 5]:  # 각 리스트 항목 처리\n",
    "    print(item * 2)"
   ]
  },
  {
   "cell_type": "markdown",
   "id": "2d38f415",
   "metadata": {},
   "source": [
    "### while문을 사용할 때\n",
    "- **반복 횟수를 모를 때**: 몇 번 반복할지 모를 때\n",
    "- **조건 기반**: 무언가가 일어날 때까지 계속\n",
    "- **사용자 상호작용**: 사용자가 중단하기로 결정할 때까지 계속"
   ]
  },
  {
   "cell_type": "code",
   "execution_count": null,
   "id": "cee2f1c0",
   "metadata": {},
   "outputs": [],
   "source": [
    "# while문이 좋은 예시\n",
    "while user_choice != \"종료\":   # 사용자가 종료할 때까지\n",
    "    user_choice = input(\"명령 입력: \")\n",
    "\n",
    "while balance > 0:             # 잔액이 있을 때까지\n",
    "    balance -= 구매액()\n",
    "\n",
    "while not 답을_찾음:           # 답을 찾을 때까지\n",
    "    answer = 데이터베이스_검색()"
   ]
  },
  {
   "cell_type": "markdown",
   "id": "3654c4c6",
   "metadata": {
    "lines_to_next_cell": 0
   },
   "source": [
    "---\n",
    "\n",
    "## 🔧 실습 문제\n",
    "\n",
    "### 실습 1: 구구단 출력 프로그램\n",
    "\n",
    "**문제**: 사용자가 입력한 숫자의 구구단을 출력하는 프로그램을 만드세요.\n",
    "\n",
    "**요구사항**:\n",
    "- 사용자에게 숫자 입력 요청\n",
    "- 1부터 9까지 곱셈표 표시\n",
    "- 출력을 명확하게 포맷\n",
    "\n",
    "**정답**:"
   ]
  },
  {
   "cell_type": "code",
   "execution_count": null,
   "id": "75969b58",
   "metadata": {},
   "outputs": [],
   "source": [
    "# 구구단 출력 프로그램\n",
    "print(\"=== 구구단 출력 프로그램 ===\")\n",
    "\n",
    "# 사용자로부터 숫자 입력받기\n",
    "number = int(input(\"구구단을 출력할 숫자를 입력하세요: \"))\n",
    "\n",
    "print(f\"\\n{number}단:\")\n",
    "print(\"-\" * 15)\n",
    "\n",
    "# 구구단 생성\n",
    "for i in range(1, 10):\n",
    "    result = number * i\n",
    "    print(f\"{number} x {i} = {result}\")\n",
    "\n",
    "print(\"-\" * 15)\n",
    "print(\"구구단 완료!\")"
   ]
  },
  {
   "cell_type": "markdown",
   "id": "0eb8ab2b",
   "metadata": {
    "lines_to_next_cell": 0
   },
   "source": [
    "### 실습 2: 숫자 맞추기 게임\n",
    "\n",
    "**문제**: 컴퓨터가 1부터 20 사이의 랜덤 숫자를 선택하고 사용자가 맞추는 게임을 만드세요.\n",
    "\n",
    "**요구사항**:\n",
    "- 컴퓨터가 1과 20 사이의 랜덤 숫자 선택\n",
    "- 사용자가 맞출 때까지 계속 추측 요청\n",
    "- 힌트 제공: \"너무 높음\" 또는 \"너무 낮음\"\n",
    "- 시도 횟수 계산 및 표시\n",
    "\n",
    "**정답**:"
   ]
  },
  {
   "cell_type": "code",
   "execution_count": null,
   "id": "cb14bcd7",
   "metadata": {},
   "outputs": [],
   "source": [
    "import random\n",
    "\n",
    "# 숫자 맞추기 게임\n",
    "print(\"=== 숫자 맞추기 게임 ===\")\n",
    "print(\"1부터 20 사이의 숫자를 생각했습니다!\")\n",
    "\n",
    "# 컴퓨터가 랜덤 숫자 선택\n",
    "secret_number = random.randint(1, 20)\n",
    "attempts = 0\n",
    "\n",
    "# 메인 게임 루프\n",
    "while True:\n",
    "    # 사용자 추측 받기\n",
    "    guess = int(input(\"\\n추측한 숫자를 입력하세요: \"))\n",
    "    attempts += 1\n",
    "    \n",
    "    # 추측 확인\n",
    "    if guess == secret_number:\n",
    "        print(f\"축하합니다! 맞추셨습니다!\")\n",
    "        print(f\"정답은 {secret_number}이었습니다\")\n",
    "        print(f\"총 {attempts}번 시도하셨습니다.\")\n",
    "        break\n",
    "    elif guess < secret_number:\n",
    "        print(\"너무 낮습니다! 더 큰 숫자를 시도해보세요.\")\n",
    "    else:\n",
    "        print(\"너무 높습니다! 더 작은 숫자를 시도해보세요.\")\n",
    "\n",
    "print(\"게임을 해주셔서 감사합니다!\")"
   ]
  },
  {
   "cell_type": "markdown",
   "id": "d5ec2ca5",
   "metadata": {
    "lines_to_next_cell": 0
   },
   "source": [
    "### 실습 3: 간단한 계산기\n",
    "\n",
    "**문제**: 사용자가 종료를 선택할 때까지 계속 실행되는 메뉴 방식의 간단한 계산기를 만드세요.\n",
    "\n",
    "**요구사항**:\n",
    "- 메뉴 옵션: 더하기, 빼기, 곱하기, 나누기, 종료\n",
    "- 사용자 선택에 따라 계산 수행\n",
    "- 잘못된 입력을 우아하게 처리\n",
    "- 사용자가 종료할 때까지 메뉴 계속 표시\n",
    "\n",
    "**정답**:"
   ]
  },
  {
   "cell_type": "code",
   "execution_count": null,
   "id": "b953e254",
   "metadata": {},
   "outputs": [],
   "source": [
    "# 간단한 계산기\n",
    "print(\"=== 간단한 계산기 ===\")\n",
    "\n",
    "while True:\n",
    "    # 메뉴 표시\n",
    "    print(\"\\n\" + \"=\"*25)\n",
    "    print(\"계산기 메뉴:\")\n",
    "    print(\"1. 더하기\")\n",
    "    print(\"2. 빼기\") \n",
    "    print(\"3. 곱하기\")\n",
    "    print(\"4. 나누기\")\n",
    "    print(\"5. 종료\")\n",
    "    print(\"=\"*25)\n",
    "    \n",
    "    # 사용자 선택 받기\n",
    "    choice = input(\"선택하세요 (1-5): \")\n",
    "    \n",
    "    # 종료 옵션\n",
    "    if choice == \"5\":\n",
    "        print(\"계산기를 사용해 주셔서 감사합니다!\")\n",
    "        print(\"안녕히 가세요!\")\n",
    "        break\n",
    "    \n",
    "    # 계산을 위해 두 숫자 입력받기\n",
    "    if choice in [\"1\", \"2\", \"3\", \"4\"]:\n",
    "        num1 = float(input(\"첫 번째 숫자: \"))\n",
    "        num2 = float(input(\"두 번째 숫자: \"))\n",
    "        \n",
    "        if choice == \"1\":\n",
    "            result = num1 + num2\n",
    "            operation = \"+\"\n",
    "        elif choice == \"2\":\n",
    "            result = num1 - num2\n",
    "            operation = \"-\"\n",
    "        elif choice == \"3\":\n",
    "            result = num1 * num2\n",
    "            operation = \"×\"\n",
    "        elif choice == \"4\":\n",
    "            if num2 == 0:\n",
    "                print(\"오류: 0으로 나눌 수 없습니다!\")\n",
    "                continue\n",
    "            result = num1 / num2\n",
    "            operation = \"÷\"\n",
    "        \n",
    "        print(f\"\\n결과: {num1} {operation} {num2} = {result}\")\n",
    "    else:\n",
    "        print(\"잘못된 선택입니다! 1-5 중에서 선택하세요.\")\n",
    "    \n",
    "    # 계속하기 전에 잠시 대기\n",
    "    input(\"\\nEnter를 눌러서 계속하세요...\")"
   ]
  },
  {
   "cell_type": "markdown",
   "id": "70d9982d",
   "metadata": {},
   "source": [
    "---\n",
    "\n",
    "## 📝 퀴즈\n",
    "\n",
    "### 퀴즈 1: 기본 for문\n",
    "**문제**: 1부터 10까지의 숫자를 각각 별도의 줄에 출력하는 for문을 작성하세요.\n",
    "\n",
    "**요구사항**:\n",
    "- range() 함수 사용\n",
    "- 각 숫자를 설명 메시지와 함께 출력\n",
    "- 형식: \"숫자: 1\", \"숫자: 2\" 등\n",
    "\n",
    "### 퀴즈 2: 기본 while문\n",
    "**문제**: 사용자에게 계속 숫자를 입력받아 그 합을 계산하는 프로그램을 만드세요. 사용자가 0을 입력하면 프로그램이 중단되어야 합니다.\n",
    "\n",
    "**요구사항**:\n",
    "- while문으로 계속 입력 요청\n",
    "- 입력된 모든 숫자의 누적 합 계산\n",
    "- 사용자가 0 입력 시 중단\n",
    "- 프로그램 종료 시 최종 합계 표시\n",
    "\n",
    "### 퀴즈 3: 별 삼각형 패턴\n",
    "**문제**: 다음과 같은 별 패턴을 만드는 프로그램을 작성하세요:\n",
    "\n",
    "```\n",
    "*\n",
    "**\n",
    "***\n",
    "****\n",
    "*****\n",
    "```\n",
    "\n",
    "**요구사항**:\n",
    "- for문 사용\n",
    "- 정확히 5줄 생성\n",
    "- 각 줄은 올바른 별 개수를 가져야 함\n",
    "\n",
    "---\n",
    "\n",
    "## 📖 참고 자료\n",
    "\n",
    "1. **파이썬 공식 튜토리얼**: https://docs.python.org/ko/3/tutorial/controlflow.html\n",
    "   - for문과 while문에 대한 공식 가이드\n",
    "\n",
    "2. **점프 투 파이썬**: https://wikidocs.net/22\n",
    "   - 한국어로 된 반복문 설명\n",
    "\n",
    "3. **코딩 도장**: https://dojang.io/mod/page/view.php?id=2234\n",
    "   - 파이썬 반복문 상세 설명\n",
    "\n",
    "---\n",
    "\n",
    "## 💡 성공을 위한 팁\n",
    "\n",
    "### 일반적인 실수\n",
    "- **콜론 빼먹기**: for문과 while문은 항상 ':'로 끝내기\n",
    "- **잘못된 들여쓰기**: 파이썬은 들여쓰기에 매우 엄격함\n",
    "- **무한 루프**: while문에서 조건 변수 업데이트 잊지 말기\n",
    "- **범위 오류**: range(5)는 0,1,2,3,4를 제공한다는 점 기억\n",
    "\n",
    "### 연습 팁\n",
    "- **간단히 시작**: 기본 range() 반복문부터 시작하기\n",
    "- **실행 추적**: 반복문을 정신적으로 단계별로 따라가기\n",
    "- **print() 활용**: print문을 추가하여 무슨 일이 일어나는지 확인\n",
    "- **패턴 연습**: 별로 다양한 패턴 만들어보기\n",
    "\n",
    "### 디버깅 요령\n",
    "- **반복 변수 출력**: 변수가 어떤 값을 가지는지 확인\n",
    "- **반복 횟수 세기**: 반복문이 예상한 횟수만큼 실행되는지 확인\n",
    "- **들여쓰기 확인**: 모든 반복문 코드가 올바르게 들여쓰기되었는지 확인\n",
    "\n",
    "### 한국 학생들을 위한 조언\n",
    "- **영어 키워드 암기**: for, while, in, range, break, continue 등 기본 키워드 숙지\n",
    "- **논리적 사고**: 반복문은 반복되는 일상 업무와 같은 논리 구조\n",
    "- **단계별 접근**: 복잡한 반복문은 단순한 반복문들로 나누어 생각하기\n",
    "\n",
    "---\n",
    "\n",
    "## 📋 숙제\n",
    "\n",
    "### 연습 문제\n",
    "1. **합계 계산기**: 1부터 100까지 숫자의 합을 계산하는 프로그램 작성\n",
    "\n",
    "2. **단어 분석기**: 사용자가 입력한 단어에서 각 모음이 몇 번 나타나는지 세는 프로그램 생성\n",
    "\n",
    "3. **카운트다운 프로그램**: 사용자가 입력한 숫자부터 1까지 카운트다운하는 프로그램 작성\n",
    "\n",
    "### 도전 문제\n",
    "**\"패턴 생성기\" 프로그램** 만들기:\n",
    "- 사용자에게 패턴 종류 선택하게 하기 (별, 숫자, 문자)\n",
    "- 사용자에게 패턴 크기 입력받기\n",
    "- 선택한 패턴을 지정된 크기로 생성하기\n",
    "- 여러 패턴을 연속으로 만들 수 있도록 하기\n",
    "\n",
    "**프로그래밍 여정에 행운을 빕니다!**"
   ]
  }
 ],
 "metadata": {
  "jupytext": {
   "cell_metadata_filter": "-all",
   "main_language": "python",
   "notebook_metadata_filter": "-all"
  }
 },
 "nbformat": 4,
 "nbformat_minor": 5
}
